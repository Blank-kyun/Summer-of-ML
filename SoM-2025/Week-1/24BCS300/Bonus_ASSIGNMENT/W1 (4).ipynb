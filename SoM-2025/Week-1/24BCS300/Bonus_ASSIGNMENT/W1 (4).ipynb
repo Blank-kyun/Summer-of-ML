{
  "cells": [
    {
      "cell_type": "markdown",
      "metadata": {
        "id": "ihbDgfEwZ_Rx"
      },
      "source": [
        "\n",
        "## ***Bonus Questions***\n",
        "## Here are some bonus questions that you can try further !\n",
        "\n",
        "### These questions are UNGRADED, and are given as an extra exercise."
      ]
    },
    {
      "cell_type": "markdown",
      "metadata": {
        "id": "xTFgCWtqdZSi"
      },
      "source": [
        "### Which pokemon has the highest combined value of Attack and Sp. Atk ?"
      ]
    },
    {
      "cell_type": "code",
      "execution_count": 26,
      "metadata": {
        "colab": {
          "base_uri": "https://localhost:8080/"
        },
        "id": "BMLOKdEQdg_J",
        "outputId": "72cbcf33-2180-457a-e71f-a2f2aa6a1a6b"
      },
      "outputs": [
        {
          "name": "stdout",
          "output_type": "stream",
          "text": [
            "Pokémon with the highest combined Attack and Sp. Atk:\n",
            "                      Name  Attack  Sp. Atk  Total_Atk\n",
            "426  RayquazaMega Rayquaza     180      180        360\n",
            "429     DeoxysAttack Forme     180      180        360\n"
          ]
        }
      ],
      "source": [
        "import pandas as pd\n",
        "\n",
        "\n",
        "df = pd.read_csv(\"W1_Pokemon.csv\")\n",
        "\n",
        "\n",
        "df[\"Total_Atk\"] = df[\"Attack\"] + df[\"Sp. Atk\"]\n",
        "\n",
        "\n",
        "max_attack_pokemon = df[df[\"Total_Atk\"] == df[\"Total_Atk\"].max()][[\"Name\", \"Attack\", \"Sp. Atk\", \"Total_Atk\"]]\n",
        "\n",
        "print(\"Pokémon with the highest combined Attack and Sp. Atk:\")\n",
        "print(max_attack_pokemon)\n",
        "\n",
        "\n"
      ]
    },
    {
      "cell_type": "markdown",
      "metadata": {
        "id": "0nJ76FFIeTKq"
      },
      "source": [
        "### Which type of legendary pokemons are the most common?"
      ]
    },
    {
      "cell_type": "code",
      "execution_count": 27,
      "metadata": {
        "colab": {
          "base_uri": "https://localhost:8080/"
        },
        "id": "e6XecJLkeUmK",
        "outputId": "ae6218f3-f3de-4338-df59-7199b563122c"
      },
      "outputs": [
        {
          "name": "stdout",
          "output_type": "stream",
          "text": [
            "The most common type among Legendary Pokémon is Psychic, appearing 14 times.\n"
          ]
        }
      ],
      "source": [
        "import pandas as pd\n",
        "\n",
        "\n",
        "df = pd.read_csv(\"W1_Pokemon.csv\")\n",
        "\n",
        "legendary_pokemon = df[df[\"Legendary\"] == True]\n",
        "\n",
        "\n",
        "type_counts = legendary_pokemon[\"Type 1\"].value_counts()\n",
        "\n",
        "most_common_type = type_counts.idxmax()\n",
        "most_common_count = type_counts.max()\n",
        "\n",
        "print(f\"The most common type among Legendary Pokémon is {most_common_type}, appearing {most_common_count} times.\")\n",
        "\n"
      ]
    },
    {
      "cell_type": "markdown",
      "metadata": {
        "id": "TyyKAFLGdHtx"
      },
      "source": [
        "### How many generation-3, non-legendary pokemons have higher HP than the weakest generation-6, legendary pokemon?"
      ]
    },
    {
      "cell_type": "code",
      "execution_count": 30,
      "metadata": {
        "colab": {
          "base_uri": "https://localhost:8080/"
        },
        "id": "wvcifD48dYsC",
        "outputId": "2b906225-c1e5-4aeb-e05d-caf23ab5f06e"
      },
      "outputs": [
        {
          "name": "stdout",
          "output_type": "stream",
          "text": [
            "Number of Generation 3 non-legendary Pokémon with higher HP than the  the weakest Generation 6 legendary: 95\n"
          ]
        }
      ],
      "source": [
        "import pandas as pd\n",
        "\n",
        "df = pd.read_csv(\"W1_Pokemon.csv\")\n",
        "\n",
        "\n",
        "gen6_legendaries = df[(df[\"Generation\"] == 6) & (df[\"Legendary\"] == True)]\n",
        "weakest_legendary_hp = gen6_legendaries[\"HP\"].min()\n",
        "\n",
        "\n",
        "gen3_non_legendaries = df[(df[\"Generation\"] == 3) & (df[\"Legendary\"] == False)]\n",
        "strong_hp_pokemon = gen3_non_legendaries[gen3_non_legendaries[\"HP\"] > weakest_legendary_hp]\n",
        "\n",
        "count_pokemon = strong_hp_pokemon.shape[0]\n",
        "\n",
        "\n",
        "print(f\"Number of Generation 3 non-legendary Pokémon with higher HP than the  the weakest Generation 6 legendary: {count_pokemon}\")\n",
        "\n"
      ]
    },
    {
      "cell_type": "markdown",
      "metadata": {
        "id": "p1uR1Aeld73z"
      },
      "source": [
        "### Print out the third slowest pokemon(s) in the dataset."
      ]
    },
    {
      "cell_type": "code",
      "execution_count": 32,
      "metadata": {
        "colab": {
          "base_uri": "https://localhost:8080/"
        },
        "id": "M5pMhQOldiFC",
        "outputId": "0cfc02d4-87c5-4029-d18d-a78df841341a"
      },
      "outputs": [
        {
          "name": "stdout",
          "output_type": "stream",
          "text": [
            "Third slowest Pokémon in the dataset:\n",
            "Name     Trapinch\n",
            "Speed          10\n",
            "Name: 359, dtype: object\n"
          ]
        }
      ],
      "source": [
        "import pandas as pd\n",
        "\n",
        "\n",
        "df = pd.read_csv(\"W1_Pokemon.csv\")\n",
        "\n",
        "\n",
        "sorted_pokemon = df.sort_values(by=\"Speed\", ascending=True)\n",
        "\n",
        "\n",
        "if sorted_pokemon.shape[0] > 2:\n",
        "    third_slowest_pokemon = sorted_pokemon.iloc[2]\n",
        "    print(\"Third slowest Pokémon in the dataset:\")\n",
        "    print(third_slowest_pokemon[[\"Name\", \"Speed\"]])\n",
        "else:\n",
        "    print(\"Not enough Pokémon in the dataset to determine the third slowest.\")\n",
        "\n"
      ]
    },
    {
      "cell_type": "markdown",
      "metadata": {
        "id": "XlouMVO2eOhy"
      },
      "source": [
        "### Which pokemon type has the highest average HP?"
      ]
    },
    {
      "cell_type": "code",
      "execution_count": 34,
      "metadata": {
        "colab": {
          "base_uri": "https://localhost:8080/"
        },
        "id": "ju2a0YAWeiCq",
        "outputId": "ae956e21-65ed-4402-d811-bfc8e9b0792a"
      },
      "outputs": [
        {
          "name": "stdout",
          "output_type": "stream",
          "text": [
            "The Pokémon type with the highest average HP is Dragon with an average HP of 83.31.\n"
          ]
        }
      ],
      "source": [
        "import pandas as pd\n",
        "\n",
        "df = pd.read_csv(\"W1_Pokemon.csv\")\n",
        "\n",
        "\n",
        "average_hp_by_type = df.groupby(\"Type 1\")[\"HP\"].mean()\n",
        "\n",
        "highest_avg_hp_type = average_hp_by_type.idxmax()\n",
        "highest_avg_hp_value = average_hp_by_type.max()\n",
        "\n",
        "print(f\"The Pokémon type with the highest average HP is {highest_avg_hp_type} with an average HP of {highest_avg_hp_value:.2f}.\")\n",
        "\n",
        "\n",
        "\n"
      ]
    }
  ],
  "metadata": {
    "colab": {
      "provenance": []
    },
    "kernelspec": {
      "display_name": "Python 3",
      "language": "python",
      "name": "python3"
    },
    "language_info": {
      "codemirror_mode": {
        "name": "ipython",
        "version": 3
      },
      "file_extension": ".py",
      "mimetype": "text/x-python",
      "name": "python",
      "nbconvert_exporter": "python",
      "pygments_lexer": "ipython3",
      "version": "3.7.6"
    }
  },
  "nbformat": 4,
  "nbformat_minor": 0
}
