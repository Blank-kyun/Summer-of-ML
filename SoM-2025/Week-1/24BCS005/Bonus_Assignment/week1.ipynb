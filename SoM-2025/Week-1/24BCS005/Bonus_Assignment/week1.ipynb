{
  "cells": [
    {
      "cell_type": "markdown",
      "metadata": {
        "id": "lV7ZG3lKzB-d"
      },
      "source": [
        "# Week-1 Assignment"
      ]
    },
    {
      "cell_type": "markdown",
      "metadata": {
        "id": "qEfkWhXPJvbv"
      },
      "source": [
        "# **Gotta catch 'em all !**"
      ]
    },
    {
      "cell_type": "markdown",
      "metadata": {
        "id": "gbWSJqiBJ11G"
      },
      "source": [
        "![download.jpg](data:image/jpeg;base64,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)"
      ]
    },
    {
      "cell_type": "markdown",
      "metadata": {
        "id": "rLK_mGZlJ_Y_"
      },
      "source": [
        "**Welcome to your first graded assignment! Hope that you are excited to implement and test everything you have learnt up until now. The dataset which you'll use includes information about Pokemons.**\n",
        "\n",
        "**We have got an interesting set of questions for you to get a basic understanding of pandas and data visualization libraries. GOOD LUCK!**\n",
        "\n",
        "\n",
        "***Let's get started with importing numpy, pandas, seaborn and matplotlib!***\n",
        "\n",
        "Note - matplotlib should be imported with the command :\n",
        "\n",
        " `import matplotlib.pyplot as plt`"
      ]
    },
    {
      "cell_type": "markdown",
      "metadata": {
        "id": "3urmJxE7KKVj"
      },
      "source": [
        "### 1) Start by importing all important libraries\n",
        "For eg, \"import numpy as np\""
      ]
    },
    {
      "cell_type": "code",
      "execution_count": 3,
      "metadata": {
        "id": "2kLDKA3bKGMD"
      },
      "outputs": [],
      "source": [
        "import numpy as np\n",
        "import matplotlib.pyplot as plt\n",
        "import seaborn as sns\n",
        "import pandas as pd\n"
      ]
    },
    {
      "cell_type": "markdown",
      "metadata": {
        "id": "0bpXri-3KVei"
      },
      "source": [
        "### 2) Read the csv file and assign it to a variable ."
      ]
    },
    {
      "cell_type": "code",
      "execution_count": 4,
      "metadata": {
        "id": "XwzSYh42Kdej"
      },
      "outputs": [],
      "source": [
        "df = pd.read_csv('/content/W1_Pokemon.csv')\n"
      ]
    },
    {
      "cell_type": "markdown",
      "metadata": {
        "id": "K72xx38QKeRU"
      },
      "source": [
        "### 3) Display shape of dataframe\n",
        "Expected Output - (800, 13)"
      ]
    },
    {
      "cell_type": "code",
      "execution_count": 5,
      "metadata": {
        "id": "YPqY3euIKoCk",
        "colab": {
          "base_uri": "https://localhost:8080/"
        },
        "outputId": "14ec1fe6-84eb-4620-cce4-b33e7b9bb75d"
      },
      "outputs": [
        {
          "output_type": "execute_result",
          "data": {
            "text/plain": [
              "(800, 13)"
            ]
          },
          "metadata": {},
          "execution_count": 5
        }
      ],
      "source": [
        "df.shape\n"
      ]
    },
    {
      "cell_type": "markdown",
      "metadata": {
        "id": "qJm2x6TMKolc"
      },
      "source": [
        "### 4) Print all columns of dataframe\n",
        "Return an array containing names of all the columns."
      ]
    },
    {
      "cell_type": "code",
      "execution_count": 6,
      "metadata": {
        "id": "ocVSOb3kKvQV",
        "colab": {
          "base_uri": "https://localhost:8080/"
        },
        "outputId": "11ca98ce-caa5-4345-e07c-a02860c09467"
      },
      "outputs": [
        {
          "output_type": "stream",
          "name": "stdout",
          "text": [
            "['#' 'Name' 'Type 1' 'Type 2' 'Total' 'HP' 'Attack' 'Defense' 'Sp. Atk'\n",
            " 'Sp. Def' 'Speed' 'Generation' 'Legendary']\n"
          ]
        }
      ],
      "source": [
        "n1 = np.array(df.columns)\n",
        "print(n1)"
      ]
    },
    {
      "cell_type": "markdown",
      "metadata": {
        "id": "HE0-ugnfKvl9"
      },
      "source": [
        "### 5) Remove the column '#' and update the dataframe."
      ]
    },
    {
      "cell_type": "code",
      "execution_count": 7,
      "metadata": {
        "id": "xU-1sxGCK7UF"
      },
      "outputs": [],
      "source": [
        "df.drop('#',axis=1,inplace=True)\n"
      ]
    },
    {
      "cell_type": "markdown",
      "metadata": {
        "id": "N9I30I5CK8NN"
      },
      "source": [
        "### 6) Set the 'Name' column as the index of dataframe"
      ]
    },
    {
      "cell_type": "code",
      "execution_count": 8,
      "metadata": {
        "id": "x9bxYl1nLCvE"
      },
      "outputs": [],
      "source": [
        "df.set_index(\"Name\",inplace=True)"
      ]
    },
    {
      "cell_type": "markdown",
      "metadata": {
        "id": "04L2giwTLElt"
      },
      "source": [
        "###  7) Print a list of all the unique Type-1 powers"
      ]
    },
    {
      "cell_type": "code",
      "execution_count": 9,
      "metadata": {
        "id": "Svgs2agDLYxt",
        "colab": {
          "base_uri": "https://localhost:8080/"
        },
        "outputId": "1339e4b6-2dc1-436f-afdd-ec4325744afe"
      },
      "outputs": [
        {
          "output_type": "stream",
          "name": "stdout",
          "text": [
            "['Grass' 'Fire' 'Water' 'Bug' 'Normal' 'Poison' 'Electric' 'Ground'\n",
            " 'Fairy' 'Fighting' 'Psychic' 'Rock' 'Ghost' 'Ice' 'Dragon' 'Dark' 'Steel'\n",
            " 'Flying']\n"
          ]
        }
      ],
      "source": [
        "t1 = df['Type 1'].unique()\n",
        "print(t1)"
      ]
    },
    {
      "cell_type": "markdown",
      "metadata": {
        "id": "68YuzJ5zXJAx"
      },
      "source": [
        "### 8) Create a column which contains the Type 1 and Type 2 abilities of pokemons, seperated with a '+'' sign. Also, display the no. of pokemons that have type-1 power as 'Psychic' and type 2 power as 'Flying' using this new column."
      ]
    },
    {
      "cell_type": "code",
      "execution_count": 10,
      "metadata": {
        "id": "igpYFRjLXLiZ",
        "colab": {
          "base_uri": "https://localhost:8080/"
        },
        "outputId": "c2fc7a32-2f0c-4872-8488-ba8b14578de8"
      },
      "outputs": [
        {
          "output_type": "stream",
          "name": "stdout",
          "text": [
            "Psychic = 90\n",
            "Flying = 101\n"
          ]
        }
      ],
      "source": [
        "df['Type3']=df['Type 1'].astype(str)+\"+\"+df['Type 2'].astype(str)\n",
        "x=df['Type3'].str.count('Psychic').sum()\n",
        "y=df['Type3'].str.count('Flying').sum()\n",
        "print(f\"Psychic = {x}\\nFlying = {y}\")"
      ]
    },
    {
      "cell_type": "markdown",
      "metadata": {
        "id": "0uujLHgHLbVO"
      },
      "source": [
        "## GRADED Questions (To be answered in the quiz)\n",
        "### Try to retrieve some information from the data and answer the questions below . BEST OF LUCK !!"
      ]
    },
    {
      "cell_type": "markdown",
      "metadata": {
        "id": "SR7p7NhNU2vy"
      },
      "source": [
        "### 1. How many pokemons have 'Mega' in their name?"
      ]
    },
    {
      "cell_type": "code",
      "execution_count": 11,
      "metadata": {
        "id": "Jj4cUag7WZYB",
        "colab": {
          "base_uri": "https://localhost:8080/"
        },
        "outputId": "1283b00b-bc4d-4a95-b2fd-59957baf94f6"
      },
      "outputs": [
        {
          "output_type": "stream",
          "name": "stdout",
          "text": [
            "49\n"
          ]
        }
      ],
      "source": [
        "df.head()\n",
        "z = df.index.str.count('Mega').value_counts()\n",
        "print(z[1])"
      ]
    },
    {
      "cell_type": "code",
      "source": [
        "df.head()"
      ],
      "metadata": {
        "colab": {
          "base_uri": "https://localhost:8080/",
          "height": 238
        },
        "id": "JFayGNZOUeAM",
        "outputId": "78269db1-1139-466c-aa54-58d5cd87a5f7"
      },
      "execution_count": 12,
      "outputs": [
        {
          "output_type": "execute_result",
          "data": {
            "text/plain": [
              "                      Type 1  Type 2  Total  HP  Attack  Defense  Sp. Atk  \\\n",
              "Name                                                                        \n",
              "Bulbasaur              Grass  Poison    318  45      49       49       65   \n",
              "Ivysaur                Grass  Poison    405  60      62       63       80   \n",
              "Venusaur               Grass  Poison    525  80      82       83      100   \n",
              "VenusaurMega Venusaur  Grass  Poison    625  80     100      123      122   \n",
              "Charmander              Fire     NaN    309  39      52       43       60   \n",
              "\n",
              "                       Sp. Def  Speed  Generation  Legendary         Type3  \n",
              "Name                                                                        \n",
              "Bulbasaur                   65     45           1      False  Grass+Poison  \n",
              "Ivysaur                     80     60           1      False  Grass+Poison  \n",
              "Venusaur                   100     80           1      False  Grass+Poison  \n",
              "VenusaurMega Venusaur      120     80           1      False  Grass+Poison  \n",
              "Charmander                  50     65           1      False      Fire+nan  "
            ],
            "text/html": [
              "\n",
              "  <div id=\"df-c72038b4-6bf9-4bba-a165-eec760caf984\" class=\"colab-df-container\">\n",
              "    <div>\n",
              "<style scoped>\n",
              "    .dataframe tbody tr th:only-of-type {\n",
              "        vertical-align: middle;\n",
              "    }\n",
              "\n",
              "    .dataframe tbody tr th {\n",
              "        vertical-align: top;\n",
              "    }\n",
              "\n",
              "    .dataframe thead th {\n",
              "        text-align: right;\n",
              "    }\n",
              "</style>\n",
              "<table border=\"1\" class=\"dataframe\">\n",
              "  <thead>\n",
              "    <tr style=\"text-align: right;\">\n",
              "      <th></th>\n",
              "      <th>Type 1</th>\n",
              "      <th>Type 2</th>\n",
              "      <th>Total</th>\n",
              "      <th>HP</th>\n",
              "      <th>Attack</th>\n",
              "      <th>Defense</th>\n",
              "      <th>Sp. Atk</th>\n",
              "      <th>Sp. Def</th>\n",
              "      <th>Speed</th>\n",
              "      <th>Generation</th>\n",
              "      <th>Legendary</th>\n",
              "      <th>Type3</th>\n",
              "    </tr>\n",
              "    <tr>\n",
              "      <th>Name</th>\n",
              "      <th></th>\n",
              "      <th></th>\n",
              "      <th></th>\n",
              "      <th></th>\n",
              "      <th></th>\n",
              "      <th></th>\n",
              "      <th></th>\n",
              "      <th></th>\n",
              "      <th></th>\n",
              "      <th></th>\n",
              "      <th></th>\n",
              "      <th></th>\n",
              "    </tr>\n",
              "  </thead>\n",
              "  <tbody>\n",
              "    <tr>\n",
              "      <th>Bulbasaur</th>\n",
              "      <td>Grass</td>\n",
              "      <td>Poison</td>\n",
              "      <td>318</td>\n",
              "      <td>45</td>\n",
              "      <td>49</td>\n",
              "      <td>49</td>\n",
              "      <td>65</td>\n",
              "      <td>65</td>\n",
              "      <td>45</td>\n",
              "      <td>1</td>\n",
              "      <td>False</td>\n",
              "      <td>Grass+Poison</td>\n",
              "    </tr>\n",
              "    <tr>\n",
              "      <th>Ivysaur</th>\n",
              "      <td>Grass</td>\n",
              "      <td>Poison</td>\n",
              "      <td>405</td>\n",
              "      <td>60</td>\n",
              "      <td>62</td>\n",
              "      <td>63</td>\n",
              "      <td>80</td>\n",
              "      <td>80</td>\n",
              "      <td>60</td>\n",
              "      <td>1</td>\n",
              "      <td>False</td>\n",
              "      <td>Grass+Poison</td>\n",
              "    </tr>\n",
              "    <tr>\n",
              "      <th>Venusaur</th>\n",
              "      <td>Grass</td>\n",
              "      <td>Poison</td>\n",
              "      <td>525</td>\n",
              "      <td>80</td>\n",
              "      <td>82</td>\n",
              "      <td>83</td>\n",
              "      <td>100</td>\n",
              "      <td>100</td>\n",
              "      <td>80</td>\n",
              "      <td>1</td>\n",
              "      <td>False</td>\n",
              "      <td>Grass+Poison</td>\n",
              "    </tr>\n",
              "    <tr>\n",
              "      <th>VenusaurMega Venusaur</th>\n",
              "      <td>Grass</td>\n",
              "      <td>Poison</td>\n",
              "      <td>625</td>\n",
              "      <td>80</td>\n",
              "      <td>100</td>\n",
              "      <td>123</td>\n",
              "      <td>122</td>\n",
              "      <td>120</td>\n",
              "      <td>80</td>\n",
              "      <td>1</td>\n",
              "      <td>False</td>\n",
              "      <td>Grass+Poison</td>\n",
              "    </tr>\n",
              "    <tr>\n",
              "      <th>Charmander</th>\n",
              "      <td>Fire</td>\n",
              "      <td>NaN</td>\n",
              "      <td>309</td>\n",
              "      <td>39</td>\n",
              "      <td>52</td>\n",
              "      <td>43</td>\n",
              "      <td>60</td>\n",
              "      <td>50</td>\n",
              "      <td>65</td>\n",
              "      <td>1</td>\n",
              "      <td>False</td>\n",
              "      <td>Fire+nan</td>\n",
              "    </tr>\n",
              "  </tbody>\n",
              "</table>\n",
              "</div>\n",
              "    <div class=\"colab-df-buttons\">\n",
              "\n",
              "  <div class=\"colab-df-container\">\n",
              "    <button class=\"colab-df-convert\" onclick=\"convertToInteractive('df-c72038b4-6bf9-4bba-a165-eec760caf984')\"\n",
              "            title=\"Convert this dataframe to an interactive table.\"\n",
              "            style=\"display:none;\">\n",
              "\n",
              "  <svg xmlns=\"http://www.w3.org/2000/svg\" height=\"24px\" viewBox=\"0 -960 960 960\">\n",
              "    <path d=\"M120-120v-720h720v720H120Zm60-500h600v-160H180v160Zm220 220h160v-160H400v160Zm0 220h160v-160H400v160ZM180-400h160v-160H180v160Zm440 0h160v-160H620v160ZM180-180h160v-160H180v160Zm440 0h160v-160H620v160Z\"/>\n",
              "  </svg>\n",
              "    </button>\n",
              "\n",
              "  <style>\n",
              "    .colab-df-container {\n",
              "      display:flex;\n",
              "      gap: 12px;\n",
              "    }\n",
              "\n",
              "    .colab-df-convert {\n",
              "      background-color: #E8F0FE;\n",
              "      border: none;\n",
              "      border-radius: 50%;\n",
              "      cursor: pointer;\n",
              "      display: none;\n",
              "      fill: #1967D2;\n",
              "      height: 32px;\n",
              "      padding: 0 0 0 0;\n",
              "      width: 32px;\n",
              "    }\n",
              "\n",
              "    .colab-df-convert:hover {\n",
              "      background-color: #E2EBFA;\n",
              "      box-shadow: 0px 1px 2px rgba(60, 64, 67, 0.3), 0px 1px 3px 1px rgba(60, 64, 67, 0.15);\n",
              "      fill: #174EA6;\n",
              "    }\n",
              "\n",
              "    .colab-df-buttons div {\n",
              "      margin-bottom: 4px;\n",
              "    }\n",
              "\n",
              "    [theme=dark] .colab-df-convert {\n",
              "      background-color: #3B4455;\n",
              "      fill: #D2E3FC;\n",
              "    }\n",
              "\n",
              "    [theme=dark] .colab-df-convert:hover {\n",
              "      background-color: #434B5C;\n",
              "      box-shadow: 0px 1px 3px 1px rgba(0, 0, 0, 0.15);\n",
              "      filter: drop-shadow(0px 1px 2px rgba(0, 0, 0, 0.3));\n",
              "      fill: #FFFFFF;\n",
              "    }\n",
              "  </style>\n",
              "\n",
              "    <script>\n",
              "      const buttonEl =\n",
              "        document.querySelector('#df-c72038b4-6bf9-4bba-a165-eec760caf984 button.colab-df-convert');\n",
              "      buttonEl.style.display =\n",
              "        google.colab.kernel.accessAllowed ? 'block' : 'none';\n",
              "\n",
              "      async function convertToInteractive(key) {\n",
              "        const element = document.querySelector('#df-c72038b4-6bf9-4bba-a165-eec760caf984');\n",
              "        const dataTable =\n",
              "          await google.colab.kernel.invokeFunction('convertToInteractive',\n",
              "                                                    [key], {});\n",
              "        if (!dataTable) return;\n",
              "\n",
              "        const docLinkHtml = 'Like what you see? Visit the ' +\n",
              "          '<a target=\"_blank\" href=https://colab.research.google.com/notebooks/data_table.ipynb>data table notebook</a>'\n",
              "          + ' to learn more about interactive tables.';\n",
              "        element.innerHTML = '';\n",
              "        dataTable['output_type'] = 'display_data';\n",
              "        await google.colab.output.renderOutput(dataTable, element);\n",
              "        const docLink = document.createElement('div');\n",
              "        docLink.innerHTML = docLinkHtml;\n",
              "        element.appendChild(docLink);\n",
              "      }\n",
              "    </script>\n",
              "  </div>\n",
              "\n",
              "\n",
              "    <div id=\"df-5a826ccc-f694-4dc2-a767-e080ddab2b3a\">\n",
              "      <button class=\"colab-df-quickchart\" onclick=\"quickchart('df-5a826ccc-f694-4dc2-a767-e080ddab2b3a')\"\n",
              "                title=\"Suggest charts\"\n",
              "                style=\"display:none;\">\n",
              "\n",
              "<svg xmlns=\"http://www.w3.org/2000/svg\" height=\"24px\"viewBox=\"0 0 24 24\"\n",
              "     width=\"24px\">\n",
              "    <g>\n",
              "        <path d=\"M19 3H5c-1.1 0-2 .9-2 2v14c0 1.1.9 2 2 2h14c1.1 0 2-.9 2-2V5c0-1.1-.9-2-2-2zM9 17H7v-7h2v7zm4 0h-2V7h2v10zm4 0h-2v-4h2v4z\"/>\n",
              "    </g>\n",
              "</svg>\n",
              "      </button>\n",
              "\n",
              "<style>\n",
              "  .colab-df-quickchart {\n",
              "      --bg-color: #E8F0FE;\n",
              "      --fill-color: #1967D2;\n",
              "      --hover-bg-color: #E2EBFA;\n",
              "      --hover-fill-color: #174EA6;\n",
              "      --disabled-fill-color: #AAA;\n",
              "      --disabled-bg-color: #DDD;\n",
              "  }\n",
              "\n",
              "  [theme=dark] .colab-df-quickchart {\n",
              "      --bg-color: #3B4455;\n",
              "      --fill-color: #D2E3FC;\n",
              "      --hover-bg-color: #434B5C;\n",
              "      --hover-fill-color: #FFFFFF;\n",
              "      --disabled-bg-color: #3B4455;\n",
              "      --disabled-fill-color: #666;\n",
              "  }\n",
              "\n",
              "  .colab-df-quickchart {\n",
              "    background-color: var(--bg-color);\n",
              "    border: none;\n",
              "    border-radius: 50%;\n",
              "    cursor: pointer;\n",
              "    display: none;\n",
              "    fill: var(--fill-color);\n",
              "    height: 32px;\n",
              "    padding: 0;\n",
              "    width: 32px;\n",
              "  }\n",
              "\n",
              "  .colab-df-quickchart:hover {\n",
              "    background-color: var(--hover-bg-color);\n",
              "    box-shadow: 0 1px 2px rgba(60, 64, 67, 0.3), 0 1px 3px 1px rgba(60, 64, 67, 0.15);\n",
              "    fill: var(--button-hover-fill-color);\n",
              "  }\n",
              "\n",
              "  .colab-df-quickchart-complete:disabled,\n",
              "  .colab-df-quickchart-complete:disabled:hover {\n",
              "    background-color: var(--disabled-bg-color);\n",
              "    fill: var(--disabled-fill-color);\n",
              "    box-shadow: none;\n",
              "  }\n",
              "\n",
              "  .colab-df-spinner {\n",
              "    border: 2px solid var(--fill-color);\n",
              "    border-color: transparent;\n",
              "    border-bottom-color: var(--fill-color);\n",
              "    animation:\n",
              "      spin 1s steps(1) infinite;\n",
              "  }\n",
              "\n",
              "  @keyframes spin {\n",
              "    0% {\n",
              "      border-color: transparent;\n",
              "      border-bottom-color: var(--fill-color);\n",
              "      border-left-color: var(--fill-color);\n",
              "    }\n",
              "    20% {\n",
              "      border-color: transparent;\n",
              "      border-left-color: var(--fill-color);\n",
              "      border-top-color: var(--fill-color);\n",
              "    }\n",
              "    30% {\n",
              "      border-color: transparent;\n",
              "      border-left-color: var(--fill-color);\n",
              "      border-top-color: var(--fill-color);\n",
              "      border-right-color: var(--fill-color);\n",
              "    }\n",
              "    40% {\n",
              "      border-color: transparent;\n",
              "      border-right-color: var(--fill-color);\n",
              "      border-top-color: var(--fill-color);\n",
              "    }\n",
              "    60% {\n",
              "      border-color: transparent;\n",
              "      border-right-color: var(--fill-color);\n",
              "    }\n",
              "    80% {\n",
              "      border-color: transparent;\n",
              "      border-right-color: var(--fill-color);\n",
              "      border-bottom-color: var(--fill-color);\n",
              "    }\n",
              "    90% {\n",
              "      border-color: transparent;\n",
              "      border-bottom-color: var(--fill-color);\n",
              "    }\n",
              "  }\n",
              "</style>\n",
              "\n",
              "      <script>\n",
              "        async function quickchart(key) {\n",
              "          const quickchartButtonEl =\n",
              "            document.querySelector('#' + key + ' button');\n",
              "          quickchartButtonEl.disabled = true;  // To prevent multiple clicks.\n",
              "          quickchartButtonEl.classList.add('colab-df-spinner');\n",
              "          try {\n",
              "            const charts = await google.colab.kernel.invokeFunction(\n",
              "                'suggestCharts', [key], {});\n",
              "          } catch (error) {\n",
              "            console.error('Error during call to suggestCharts:', error);\n",
              "          }\n",
              "          quickchartButtonEl.classList.remove('colab-df-spinner');\n",
              "          quickchartButtonEl.classList.add('colab-df-quickchart-complete');\n",
              "        }\n",
              "        (() => {\n",
              "          let quickchartButtonEl =\n",
              "            document.querySelector('#df-5a826ccc-f694-4dc2-a767-e080ddab2b3a button');\n",
              "          quickchartButtonEl.style.display =\n",
              "            google.colab.kernel.accessAllowed ? 'block' : 'none';\n",
              "        })();\n",
              "      </script>\n",
              "    </div>\n",
              "\n",
              "    </div>\n",
              "  </div>\n"
            ],
            "application/vnd.google.colaboratory.intrinsic+json": {
              "type": "dataframe",
              "variable_name": "df",
              "summary": "{\n  \"name\": \"df\",\n  \"rows\": 800,\n  \"fields\": [\n    {\n      \"column\": \"Name\",\n      \"properties\": {\n        \"dtype\": \"string\",\n        \"num_unique_values\": 800,\n        \"samples\": [\n          \"Hydreigon\",\n          \"Beheeyem\",\n          \"Growlithe\"\n        ],\n        \"semantic_type\": \"\",\n        \"description\": \"\"\n      }\n    },\n    {\n      \"column\": \"Type 1\",\n      \"properties\": {\n        \"dtype\": \"category\",\n        \"num_unique_values\": 18,\n        \"samples\": [\n          \"Grass\",\n          \"Fire\",\n          \"Fairy\"\n        ],\n        \"semantic_type\": \"\",\n        \"description\": \"\"\n      }\n    },\n    {\n      \"column\": \"Type 2\",\n      \"properties\": {\n        \"dtype\": \"category\",\n        \"num_unique_values\": 18,\n        \"samples\": [\n          \"Poison\",\n          \"Flying\",\n          \"Steel\"\n        ],\n        \"semantic_type\": \"\",\n        \"description\": \"\"\n      }\n    },\n    {\n      \"column\": \"Total\",\n      \"properties\": {\n        \"dtype\": \"number\",\n        \"std\": 119,\n        \"min\": 180,\n        \"max\": 780,\n        \"num_unique_values\": 200,\n        \"samples\": [\n          700,\n          349,\n          505\n        ],\n        \"semantic_type\": \"\",\n        \"description\": \"\"\n      }\n    },\n    {\n      \"column\": \"HP\",\n      \"properties\": {\n        \"dtype\": \"number\",\n        \"std\": 25,\n        \"min\": 1,\n        \"max\": 255,\n        \"num_unique_values\": 94,\n        \"samples\": [\n          106,\n          81,\n          170\n        ],\n        \"semantic_type\": \"\",\n        \"description\": \"\"\n      }\n    },\n    {\n      \"column\": \"Attack\",\n      \"properties\": {\n        \"dtype\": \"number\",\n        \"std\": 32,\n        \"min\": 5,\n        \"max\": 190,\n        \"num_unique_values\": 111,\n        \"samples\": [\n          79,\n          63,\n          52\n        ],\n        \"semantic_type\": \"\",\n        \"description\": \"\"\n      }\n    },\n    {\n      \"column\": \"Defense\",\n      \"properties\": {\n        \"dtype\": \"number\",\n        \"std\": 31,\n        \"min\": 5,\n        \"max\": 230,\n        \"num_unique_values\": 103,\n        \"samples\": [\n          20,\n          88,\n          23\n        ],\n        \"semantic_type\": \"\",\n        \"description\": \"\"\n      }\n    },\n    {\n      \"column\": \"Sp. Atk\",\n      \"properties\": {\n        \"dtype\": \"number\",\n        \"std\": 32,\n        \"min\": 10,\n        \"max\": 194,\n        \"num_unique_values\": 105,\n        \"samples\": [\n          58,\n          150,\n          160\n        ],\n        \"semantic_type\": \"\",\n        \"description\": \"\"\n      }\n    },\n    {\n      \"column\": \"Sp. Def\",\n      \"properties\": {\n        \"dtype\": \"number\",\n        \"std\": 27,\n        \"min\": 20,\n        \"max\": 230,\n        \"num_unique_values\": 92,\n        \"samples\": [\n          154,\n          45,\n          44\n        ],\n        \"semantic_type\": \"\",\n        \"description\": \"\"\n      }\n    },\n    {\n      \"column\": \"Speed\",\n      \"properties\": {\n        \"dtype\": \"number\",\n        \"std\": 29,\n        \"min\": 5,\n        \"max\": 180,\n        \"num_unique_values\": 108,\n        \"samples\": [\n          113,\n          50,\n          100\n        ],\n        \"semantic_type\": \"\",\n        \"description\": \"\"\n      }\n    },\n    {\n      \"column\": \"Generation\",\n      \"properties\": {\n        \"dtype\": \"number\",\n        \"std\": 1,\n        \"min\": 1,\n        \"max\": 6,\n        \"num_unique_values\": 6,\n        \"samples\": [\n          1,\n          2,\n          6\n        ],\n        \"semantic_type\": \"\",\n        \"description\": \"\"\n      }\n    },\n    {\n      \"column\": \"Legendary\",\n      \"properties\": {\n        \"dtype\": \"boolean\",\n        \"num_unique_values\": 2,\n        \"samples\": [\n          true,\n          false\n        ],\n        \"semantic_type\": \"\",\n        \"description\": \"\"\n      }\n    },\n    {\n      \"column\": \"Type3\",\n      \"properties\": {\n        \"dtype\": \"category\",\n        \"num_unique_values\": 154,\n        \"samples\": [\n          \"Normal+Fairy\",\n          \"Normal+Water\"\n        ],\n        \"semantic_type\": \"\",\n        \"description\": \"\"\n      }\n    }\n  ]\n}"
            }
          },
          "metadata": {},
          "execution_count": 12
        }
      ]
    },
    {
      "cell_type": "markdown",
      "metadata": {
        "id": "yL9loV4IWZwp"
      },
      "source": [
        "### 2. What is the standard deviation of Sp. Def. in the dataset ?"
      ]
    },
    {
      "cell_type": "code",
      "execution_count": 13,
      "metadata": {
        "id": "WjOwyU89WlwR",
        "colab": {
          "base_uri": "https://localhost:8080/"
        },
        "outputId": "39805b56-5e9a-4e3c-a449-2e020aeecd64"
      },
      "outputs": [
        {
          "output_type": "stream",
          "name": "stdout",
          "text": [
            "27.82891579711745\n"
          ]
        }
      ],
      "source": [
        "s=df['Sp. Def'].std()\n",
        "print(s)"
      ]
    },
    {
      "cell_type": "markdown",
      "metadata": {
        "id": "PfUPj9e7Wmkx"
      },
      "source": [
        "### 3. What percentage (upto 3 decimal places) of pokemons are legendary ?"
      ]
    },
    {
      "cell_type": "code",
      "execution_count": 32,
      "metadata": {
        "id": "Qoy0rPpUW2lp",
        "colab": {
          "base_uri": "https://localhost:8080/"
        },
        "outputId": "06010f52-4410-492f-b029-63d6ac047d26"
      },
      "outputs": [
        {
          "output_type": "stream",
          "name": "stdout",
          "text": [
            "8.125\n"
          ]
        }
      ],
      "source": [
        "x1 = df['Legendary'].values.sum()\n",
        "y1=len(df['Legendary'])\n",
        "per = (x1/y1)*100\n",
        "print(f\"{per:.3f}\")\n"
      ]
    },
    {
      "cell_type": "markdown",
      "metadata": {
        "id": "0IqKY_vvW216"
      },
      "source": [
        "### 4. Name the pokemon(s) with Maximum Defense.\n",
        "\n",
        "\n",
        "\n",
        "\n"
      ]
    },
    {
      "cell_type": "code",
      "execution_count": 27,
      "metadata": {
        "id": "ZsUW7kZzXeKR",
        "colab": {
          "base_uri": "https://localhost:8080/"
        },
        "outputId": "5cb99656-f16d-4714-ece4-ec7b241cea86"
      },
      "outputs": [
        {
          "output_type": "stream",
          "name": "stdout",
          "text": [
            "['SteelixMega Steelix', 'Shuckle', 'AggronMega Aggron']\n"
          ]
        }
      ],
      "source": [
        "ind = df[df['Defense']==(df['Defense'].max())].index.tolist()\n",
        "print(ind)"
      ]
    },
    {
      "cell_type": "markdown",
      "metadata": {
        "id": "Ds33LC6dXema"
      },
      "source": [
        "### 5. Which poison pokemon has the strongest attack ?"
      ]
    },
    {
      "cell_type": "code",
      "execution_count": 31,
      "metadata": {
        "id": "TRy2Tb_GXqcp",
        "colab": {
          "base_uri": "https://localhost:8080/"
        },
        "outputId": "c20f52f2-066c-4252-ca3a-bca6f102c50f"
      },
      "outputs": [
        {
          "output_type": "stream",
          "name": "stdout",
          "text": [
            "['Toxicroak']\n"
          ]
        }
      ],
      "source": [
        "ptype = df['Type3'].str.contains('Poison')\n",
        "df0 = df[ptype]\n",
        "ind1 = df0[df0['Attack']==(df0['Attack'].max())].index.tolist()\n",
        "print(ind1)"
      ]
    },
    {
      "cell_type": "markdown",
      "metadata": {
        "id": "ate8hMAkYCph"
      },
      "source": [
        "### 6. Using seaborn make different types of plots, observe the trend and answer the questions given in the form."
      ]
    },
    {
      "cell_type": "code",
      "execution_count": 140,
      "metadata": {
        "id": "pbBwBWxGZhAz",
        "colab": {
          "base_uri": "https://localhost:8080/",
          "height": 466
        },
        "outputId": "4ab11825-4241-4a17-9b21-4ea80c885458"
      },
      "outputs": [
        {
          "output_type": "stream",
          "name": "stdout",
          "text": [
            "Count of Legendary and non legendary pokemons of Different Generations of Pokemons\n"
          ]
        },
        {
          "output_type": "display_data",
          "data": {
            "text/plain": [
              "<Figure size 640x480 with 1 Axes>"
            ],
            "image/png": "[encoded data removed]"
          },
          "metadata": {}
        }
      ],
      "source": [
        "sns.countplot(x='Generation',data=df,hue='Legendary')\n",
        "print(\"Count of Legendary and non legendary pokemons of Different Generations of Pokemons\")"
      ]
    },
    {
      "cell_type": "code",
      "execution_count": 92,
      "metadata": {
        "id": "2AUlwkPaZhb6",
        "colab": {
          "base_uri": "https://localhost:8080/",
          "height": 501
        },
        "outputId": "55fc35e6-df48-4021-917d-1065841ac430"
      },
      "outputs": [
        {
          "output_type": "stream",
          "name": "stdout",
          "text": [
            "Legendary pokemons have stronger attack as compared to non legendary\n",
            "\n",
            "\n"
          ]
        },
        {
          "output_type": "display_data",
          "data": {
            "text/plain": [
              "<Figure size 640x480 with 1 Axes>"
            ],
            "image/png": "[encoded data removed]"
          },
          "metadata": {}
        }
      ],
      "source": [
        "sns.lineplot(x='Generation',y='Attack',data=df,errorbar=None,style='Legendary')\n",
        "print(\"Legendary pokemons have stronger attack as compared to non legendary\\n\\n\")"
      ]
    },
    {
      "cell_type": "code",
      "execution_count": 149,
      "metadata": {
        "id": "CVeZfGhiZhs5",
        "colab": {
          "base_uri": "https://localhost:8080/",
          "height": 466
        },
        "outputId": "e7f4e649-171b-418c-a7f1-16076b6b1d42"
      },
      "outputs": [
        {
          "output_type": "stream",
          "name": "stdout",
          "text": [
            "These are the types of pokemons with the number of legendary count, it can be seen that most of the Legendary pokemons in the dataset are of Psychic type\n"
          ]
        },
        {
          "output_type": "display_data",
          "data": {
            "text/plain": [
              "<Figure size 640x480 with 1 Axes>"
            ],
            "image/png": "[encoded data removed]"
          },
          "metadata": {}
        }
      ],
      "source": [
        "sns.set_style('darkgrid')\n",
        "df2 = df.head(500)\n",
        "sns.countplot(x='Type 1',data=df2[df2['Legendary']==True])\n",
        "\n",
        "print(\"These are the types of pokemons with the number of legendary count, it can be seen that most of the Legendary pokemons in the dataset are of Psychic type\")"
      ]
    },
    {
      "cell_type": "markdown",
      "metadata": {
        "id": "bJD_71DtXqu5"
      },
      "source": [
        "### 7. Which is the second fastest non-legendary 'Ghost' type pokemon from 4th generation ?"
      ]
    },
    {
      "cell_type": "code",
      "execution_count": 46,
      "metadata": {
        "id": "9zPGLRAtYCRB",
        "colab": {
          "base_uri": "https://localhost:8080/",
          "height": 35
        },
        "outputId": "dde10149-3928-4098-aa78-eb323ff74382"
      },
      "outputs": [
        {
          "output_type": "execute_result",
          "data": {
            "text/plain": [
              "'Mismagius'"
            ],
            "application/vnd.google.colaboratory.intrinsic+json": {
              "type": "string"
            }
          },
          "metadata": {},
          "execution_count": 46
        }
      ],
      "source": [
        "df4 = df[(df['Generation']==4)&(df['Legendary']==False)&(df['Type3'].str.contains('Ghost'))].sort_values(by='Speed',ascending=False)\n",
        "df4.iloc[1,:].name"
      ]
    },
    {
      "cell_type": "markdown",
      "metadata": {
        "id": "j8IP_iLPZkji"
      },
      "source": [
        "### 8. How many non-legendary pokemons have stronger defence but weaker attack than Charizard?"
      ]
    },
    {
      "cell_type": "code",
      "execution_count": 61,
      "metadata": {
        "id": "RuQjMFP7cWsK",
        "colab": {
          "base_uri": "https://localhost:8080/"
        },
        "outputId": "9e8daad5-76bb-4ffd-dc67-e4e703786dfc"
      },
      "outputs": [
        {
          "output_type": "execute_result",
          "data": {
            "text/plain": [
              "116"
            ]
          },
          "metadata": {},
          "execution_count": 61
        }
      ],
      "source": [
        "s1 = df.loc['Charizard',['Attack','Defense']]\n",
        "\n",
        "df8 = df[(df['Legendary']==False)&(df['Defense']>s1['Defense'])&(df['Attack']<s1['Attack'])]\n",
        "len(df8)\n"
      ]
    },
    {
      "cell_type": "markdown",
      "metadata": {
        "id": "ihbDgfEwZ_Rx"
      },
      "source": [
        "\n",
        "## ***Bonus Questions***\n",
        "## Here are some bonus questions that you can try further !\n",
        "\n",
        "### These questions are UNGRADED, and are given as an extra exercise."
      ]
    },
    {
      "cell_type": "markdown",
      "metadata": {
        "id": "xTFgCWtqdZSi"
      },
      "source": [
        "### Which pokemon has the highest combined value of Attack and Sp. Atk ?"
      ]
    },
    {
      "cell_type": "code",
      "execution_count": 20,
      "metadata": {
        "id": "BMLOKdEQdg_J"
      },
      "outputs": [],
      "source": [
        "#your code here\n"
      ]
    },
    {
      "cell_type": "markdown",
      "metadata": {
        "id": "0nJ76FFIeTKq"
      },
      "source": [
        "### Which type of legendary pokemons are the most common?"
      ]
    },
    {
      "cell_type": "code",
      "execution_count": 21,
      "metadata": {
        "id": "e6XecJLkeUmK"
      },
      "outputs": [],
      "source": [
        "#your code here\n"
      ]
    },
    {
      "cell_type": "markdown",
      "metadata": {
        "id": "TyyKAFLGdHtx"
      },
      "source": [
        "### How many generation-3, non-legendary pokemons have higher HP than the weakest generation-6, legendary pokemon?"
      ]
    },
    {
      "cell_type": "code",
      "execution_count": 22,
      "metadata": {
        "id": "wvcifD48dYsC"
      },
      "outputs": [],
      "source": [
        "#your code here\n"
      ]
    },
    {
      "cell_type": "markdown",
      "metadata": {
        "id": "p1uR1Aeld73z"
      },
      "source": [
        "### Print out the third slowest pokemon(s) in the dataset."
      ]
    },
    {
      "cell_type": "code",
      "execution_count": 23,
      "metadata": {
        "id": "M5pMhQOldiFC"
      },
      "outputs": [],
      "source": [
        "#your code here\n"
      ]
    },
    {
      "cell_type": "markdown",
      "metadata": {
        "id": "XlouMVO2eOhy"
      },
      "source": [
        "### Which pokemon type has the highest average HP?"
      ]
    },
    {
      "cell_type": "code",
      "execution_count": 24,
      "metadata": {
        "id": "ju2a0YAWeiCq"
      },
      "outputs": [],
      "source": [
        "#your code here\n"
      ]
    }
  ],
  "metadata": {
    "colab": {
      "provenance": []
    },
    "kernelspec": {
      "display_name": "Python 3",
      "language": "python",
      "name": "python3"
    },
    "language_info": {
      "codemirror_mode": {
        "name": "ipython",
        "version": 3
      },
      "file_extension": ".py",
      "mimetype": "text/x-python",
      "name": "python",
      "nbconvert_exporter": "python",
      "pygments_lexer": "ipython3",
      "version": "3.7.6"
    }
  },
  "nbformat": 4,
  "nbformat_minor": 0
}