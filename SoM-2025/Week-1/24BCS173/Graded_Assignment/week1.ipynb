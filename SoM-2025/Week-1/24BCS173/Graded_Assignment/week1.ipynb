{
 "cells": [
  {
   "cell_type": "markdown",
   "id": "2e3378a6",
   "metadata": {},
   "source": [
    "# 1) Start by importing all important libraries"
   ]
  },
  {
   "cell_type": "code",
   "execution_count": 6,
   "id": "f6565881",
   "metadata": {},
   "outputs": [],
   "source": [
    "import pandas as pd\n",
    "import numpy as np"
   ]
  },
  {
   "cell_type": "markdown",
   "id": "018736cc",
   "metadata": {},
   "source": [
    "# 2) Read the csv file and assign it to a variable ."
   ]
  },
  {
   "cell_type": "code",
   "execution_count": 7,
   "id": "dc1904b5",
   "metadata": {},
   "outputs": [],
   "source": [
    "df = pd.read_csv(r'C:\\Users\\NILANJAN SIKDAR\\Desktop\\sigma Development\\Summer-of-ML\\SoM-2025\\Week-1\\24BCS173\\W1_Pokemon.csv')"
   ]
  },
  {
   "cell_type": "markdown",
   "id": "a4c84720",
   "metadata": {},
   "source": [
    "# 3) Display shape of dataframe"
   ]
  },
  {
   "cell_type": "code",
   "execution_count": 8,
   "id": "7fbc04e1",
   "metadata": {},
   "outputs": [
    {
     "data": {
      "text/plain": [
       "(800, 13)"
      ]
     },
     "execution_count": 8,
     "metadata": {},
     "output_type": "execute_result"
    }
   ],
   "source": [
    "df.shape"
   ]
  },
  {
   "cell_type": "markdown",
   "id": "92e2d542",
   "metadata": {},
   "source": [
    "# 4) Print all columns of dataframe"
   ]
  },
  {
   "cell_type": "code",
   "execution_count": 9,
   "id": "f3b6b52f",
   "metadata": {},
   "outputs": [
    {
     "data": {
      "text/plain": [
       "0                  Bulbasaur\n",
       "1                    Ivysaur\n",
       "2                   Venusaur\n",
       "3      VenusaurMega Venusaur\n",
       "4                 Charmander\n",
       "               ...          \n",
       "795                  Diancie\n",
       "796      DiancieMega Diancie\n",
       "797      HoopaHoopa Confined\n",
       "798       HoopaHoopa Unbound\n",
       "799                Volcanion\n",
       "Name: Name, Length: 800, dtype: object"
      ]
     },
     "execution_count": 9,
     "metadata": {},
     "output_type": "execute_result"
    }
   ],
   "source": [
    "df.Name"
   ]
  },
  {
   "cell_type": "markdown",
   "id": "95d1aeba",
   "metadata": {},
   "source": [
    "# 5) Remove the column '#' and update the dataframe.\n",
    "## there is no # column"
   ]
  },
  {
   "cell_type": "code",
   "execution_count": 10,
   "id": "d58d2327",
   "metadata": {},
   "outputs": [],
   "source": [
    "df = df.drop('Type 2',axis=1)"
   ]
  },
  {
   "cell_type": "code",
   "execution_count": 11,
   "id": "cb36ebeb",
   "metadata": {},
   "outputs": [
    {
     "name": "stdout",
     "output_type": "stream",
     "text": [
      "Index(['#', 'Name', 'Type 1', 'Total', 'HP', 'Attack', 'Defense', 'Sp. Atk',\n",
      "       'Sp. Def', 'Speed', 'Generation', 'Legendary'],\n",
      "      dtype='object')\n"
     ]
    }
   ],
   "source": [
    "print(df.columns)"
   ]
  },
  {
   "cell_type": "code",
   "execution_count": 12,
   "id": "fbee6294",
   "metadata": {},
   "outputs": [
    {
     "data": {
      "text/plain": [
       "Index(['#', 'Name', 'Type 1', 'Total', 'HP', 'Attack', 'Defense', 'Sp. Atk',\n",
       "       'Sp. Def', 'Speed', 'Generation', 'Legendary'],\n",
       "      dtype='object')"
      ]
     },
     "execution_count": 12,
     "metadata": {},
     "output_type": "execute_result"
    }
   ],
   "source": [
    "df.columns"
   ]
  },
  {
   "cell_type": "markdown",
   "id": "2f93a45f",
   "metadata": {},
   "source": [
    "# 6) Set the 'Name' column as the index of dataframe"
   ]
  },
  {
   "cell_type": "code",
   "execution_count": null,
   "id": "20b00be1",
   "metadata": {},
   "outputs": [],
   "source": []
  },
  {
   "cell_type": "markdown",
   "id": "c02816de",
   "metadata": {},
   "source": [
    "# 7) Print a list of all the unique Type-1 powers"
   ]
  },
  {
   "cell_type": "code",
   "execution_count": 13,
   "id": "eb378ec0",
   "metadata": {},
   "outputs": [
    {
     "data": {
      "text/plain": [
       "array(['Grass', 'Fire', 'Water', 'Bug', 'Normal', 'Poison', 'Electric',\n",
       "       'Ground', 'Fairy', 'Fighting', 'Psychic', 'Rock', 'Ghost', 'Ice',\n",
       "       'Dragon', 'Dark', 'Steel', 'Flying'], dtype=object)"
      ]
     },
     "execution_count": 13,
     "metadata": {},
     "output_type": "execute_result"
    }
   ],
   "source": [
    "df['Type 1'].unique()"
   ]
  },
  {
   "cell_type": "markdown",
   "id": "1fa8f729",
   "metadata": {},
   "source": [
    "# 8) Create a column which contains the Type 1 and Type 2 abilities of pokemons, seperated with a '+'' sign. Also, display the no. of pokemons that have type-1 power as 'Psychic' and type 2 power as 'Flying' using this new column."
   ]
  },
  {
   "cell_type": "code",
   "execution_count": null,
   "id": "fe8809fc",
   "metadata": {},
   "outputs": [],
   "source": []
  },
  {
   "cell_type": "code",
   "execution_count": null,
   "id": "d7144bab",
   "metadata": {},
   "outputs": [
    {
     "ename": "KeyError",
     "evalue": "'Ability'",
     "output_type": "error",
     "traceback": [
      "\u001b[31m---------------------------------------------------------------------------\u001b[39m",
      "\u001b[31mKeyError\u001b[39m                                  Traceback (most recent call last)",
      "\u001b[36mFile \u001b[39m\u001b[32m~\\AppData\\Roaming\\Python\\Python313\\site-packages\\pandas\\core\\indexes\\base.py:3805\u001b[39m, in \u001b[36mIndex.get_loc\u001b[39m\u001b[34m(self, key)\u001b[39m\n\u001b[32m   3804\u001b[39m \u001b[38;5;28;01mtry\u001b[39;00m:\n\u001b[32m-> \u001b[39m\u001b[32m3805\u001b[39m     \u001b[38;5;28;01mreturn\u001b[39;00m \u001b[38;5;28;43mself\u001b[39;49m\u001b[43m.\u001b[49m\u001b[43m_engine\u001b[49m\u001b[43m.\u001b[49m\u001b[43mget_loc\u001b[49m\u001b[43m(\u001b[49m\u001b[43mcasted_key\u001b[49m\u001b[43m)\u001b[49m\n\u001b[32m   3806\u001b[39m \u001b[38;5;28;01mexcept\u001b[39;00m \u001b[38;5;167;01mKeyError\u001b[39;00m \u001b[38;5;28;01mas\u001b[39;00m err:\n",
      "\u001b[36mFile \u001b[39m\u001b[32mindex.pyx:167\u001b[39m, in \u001b[36mpandas._libs.index.IndexEngine.get_loc\u001b[39m\u001b[34m()\u001b[39m\n",
      "\u001b[36mFile \u001b[39m\u001b[32mindex.pyx:196\u001b[39m, in \u001b[36mpandas._libs.index.IndexEngine.get_loc\u001b[39m\u001b[34m()\u001b[39m\n",
      "\u001b[36mFile \u001b[39m\u001b[32mpandas\\\\_libs\\\\hashtable_class_helper.pxi:7081\u001b[39m, in \u001b[36mpandas._libs.hashtable.PyObjectHashTable.get_item\u001b[39m\u001b[34m()\u001b[39m\n",
      "\u001b[36mFile \u001b[39m\u001b[32mpandas\\\\_libs\\\\hashtable_class_helper.pxi:7089\u001b[39m, in \u001b[36mpandas._libs.hashtable.PyObjectHashTable.get_item\u001b[39m\u001b[34m()\u001b[39m\n",
      "\u001b[31mKeyError\u001b[39m: 'Ability'",
      "\nThe above exception was the direct cause of the following exception:\n",
      "\u001b[31mKeyError\u001b[39m                                  Traceback (most recent call last)",
      "\u001b[36mCell\u001b[39m\u001b[36m \u001b[39m\u001b[32mIn[15]\u001b[39m\u001b[32m, line 1\u001b[39m\n\u001b[32m----> \u001b[39m\u001b[32m1\u001b[39m df[(\u001b[43mdf\u001b[49m\u001b[43m[\u001b[49m\u001b[33;43m'\u001b[39;49m\u001b[33;43mAbility\u001b[39;49m\u001b[33;43m'\u001b[39;49m\u001b[43m]\u001b[49m == \u001b[33m'\u001b[39m\u001b[33mPsychic\u001b[39m\u001b[33m'\u001b[39m) & (df[\u001b[33m'\u001b[39m\u001b[33mAbility\u001b[39m\u001b[33m'\u001b[39m] == \u001b[33m'\u001b[39m\u001b[33mFlying\u001b[39m\u001b[33m'\u001b[39m)]\n",
      "\u001b[36mFile \u001b[39m\u001b[32m~\\AppData\\Roaming\\Python\\Python313\\site-packages\\pandas\\core\\frame.py:4102\u001b[39m, in \u001b[36mDataFrame.__getitem__\u001b[39m\u001b[34m(self, key)\u001b[39m\n\u001b[32m   4100\u001b[39m \u001b[38;5;28;01mif\u001b[39;00m \u001b[38;5;28mself\u001b[39m.columns.nlevels > \u001b[32m1\u001b[39m:\n\u001b[32m   4101\u001b[39m     \u001b[38;5;28;01mreturn\u001b[39;00m \u001b[38;5;28mself\u001b[39m._getitem_multilevel(key)\n\u001b[32m-> \u001b[39m\u001b[32m4102\u001b[39m indexer = \u001b[38;5;28;43mself\u001b[39;49m\u001b[43m.\u001b[49m\u001b[43mcolumns\u001b[49m\u001b[43m.\u001b[49m\u001b[43mget_loc\u001b[49m\u001b[43m(\u001b[49m\u001b[43mkey\u001b[49m\u001b[43m)\u001b[49m\n\u001b[32m   4103\u001b[39m \u001b[38;5;28;01mif\u001b[39;00m is_integer(indexer):\n\u001b[32m   4104\u001b[39m     indexer = [indexer]\n",
      "\u001b[36mFile \u001b[39m\u001b[32m~\\AppData\\Roaming\\Python\\Python313\\site-packages\\pandas\\core\\indexes\\base.py:3812\u001b[39m, in \u001b[36mIndex.get_loc\u001b[39m\u001b[34m(self, key)\u001b[39m\n\u001b[32m   3807\u001b[39m     \u001b[38;5;28;01mif\u001b[39;00m \u001b[38;5;28misinstance\u001b[39m(casted_key, \u001b[38;5;28mslice\u001b[39m) \u001b[38;5;129;01mor\u001b[39;00m (\n\u001b[32m   3808\u001b[39m         \u001b[38;5;28misinstance\u001b[39m(casted_key, abc.Iterable)\n\u001b[32m   3809\u001b[39m         \u001b[38;5;129;01mand\u001b[39;00m \u001b[38;5;28many\u001b[39m(\u001b[38;5;28misinstance\u001b[39m(x, \u001b[38;5;28mslice\u001b[39m) \u001b[38;5;28;01mfor\u001b[39;00m x \u001b[38;5;129;01min\u001b[39;00m casted_key)\n\u001b[32m   3810\u001b[39m     ):\n\u001b[32m   3811\u001b[39m         \u001b[38;5;28;01mraise\u001b[39;00m InvalidIndexError(key)\n\u001b[32m-> \u001b[39m\u001b[32m3812\u001b[39m     \u001b[38;5;28;01mraise\u001b[39;00m \u001b[38;5;167;01mKeyError\u001b[39;00m(key) \u001b[38;5;28;01mfrom\u001b[39;00m\u001b[38;5;250m \u001b[39m\u001b[34;01merr\u001b[39;00m\n\u001b[32m   3813\u001b[39m \u001b[38;5;28;01mexcept\u001b[39;00m \u001b[38;5;167;01mTypeError\u001b[39;00m:\n\u001b[32m   3814\u001b[39m     \u001b[38;5;66;03m# If we have a listlike key, _check_indexing_error will raise\u001b[39;00m\n\u001b[32m   3815\u001b[39m     \u001b[38;5;66;03m#  InvalidIndexError. Otherwise we fall through and re-raise\u001b[39;00m\n\u001b[32m   3816\u001b[39m     \u001b[38;5;66;03m#  the TypeError.\u001b[39;00m\n\u001b[32m   3817\u001b[39m     \u001b[38;5;28mself\u001b[39m._check_indexing_error(key)\n",
      "\u001b[31mKeyError\u001b[39m: 'Ability'"
     ]
    }
   ],
   "source": [
    "\n"
   ]
  },
  {
   "cell_type": "markdown",
   "id": "ec29c6db",
   "metadata": {},
   "source": [
    "# GRADED Questions (To be answered in the quiz)\n",
    "Try to retrieve some information from the data and answer the questions below . BEST OF LUCK !!"
   ]
  },
  {
   "cell_type": "markdown",
   "id": "fe5a5ff8",
   "metadata": {},
   "source": [
    "# 1. How many pokemons have 'Mega' in their name?"
   ]
  },
  {
   "cell_type": "code",
   "execution_count": 23,
   "id": "7fcb997d",
   "metadata": {},
   "outputs": [
    {
     "data": {
      "text/plain": [
       "49"
      ]
     },
     "execution_count": 23,
     "metadata": {},
     "output_type": "execute_result"
    }
   ],
   "source": [
    "mega_pokemon = df[df['Name'].str.contains('Mega')]\n",
    "mega_count = mega_pokemon.shape[0]\n",
    "mega_count"
   ]
  },
  {
   "cell_type": "markdown",
   "id": "2e259eed",
   "metadata": {},
   "source": [
    "# 2. What is the standard deviation of Sp. Def. in the dataset ?"
   ]
  },
  {
   "cell_type": "code",
   "execution_count": 25,
   "id": "75202b1a",
   "metadata": {},
   "outputs": [
    {
     "data": {
      "text/plain": [
       "np.float64(27.82891579711746)"
      ]
     },
     "execution_count": 25,
     "metadata": {},
     "output_type": "execute_result"
    }
   ],
   "source": [
    "standard_deviation = df['Sp. Def'].std()\n",
    "standard_deviation"
   ]
  },
  {
   "cell_type": "markdown",
   "id": "fc8b41f7",
   "metadata": {},
   "source": [
    "# 3. What percentage (upto 3 decimal places) of pokemons are legendary ?"
   ]
  },
  {
   "cell_type": "code",
   "execution_count": 33,
   "id": "31c5abe8",
   "metadata": {},
   "outputs": [
    {
     "data": {
      "text/plain": [
       "8.125"
      ]
     },
     "execution_count": 33,
     "metadata": {},
     "output_type": "execute_result"
    }
   ],
   "source": [
    "legendary_Count = df[df['Legendary'] == True].shape[0]\n",
    "total_Count = df.shape[0]\n",
    "percentage = ((legendary_Count/total_Count) * 100)\n",
    "percentage"
   ]
  },
  {
   "cell_type": "markdown",
   "id": "b26f863a",
   "metadata": {},
   "source": [
    "# 4. Name the pokemon(s) with Maximum Defense."
   ]
  },
  {
   "cell_type": "code",
   "execution_count": 34,
   "id": "2943655b",
   "metadata": {},
   "outputs": [
    {
     "data": {
      "text/plain": [
       "['SteelixMega Steelix', 'Shuckle', 'AggronMega Aggron']"
      ]
     },
     "execution_count": 34,
     "metadata": {},
     "output_type": "execute_result"
    }
   ],
   "source": [
    "max_defense = df['Defense'].max()\n",
    "max_pokemon = df[df['Defense'] == max_defense]['Name']\n",
    "max_pokemon.tolist()"
   ]
  },
  {
   "cell_type": "markdown",
   "id": "baac5d40",
   "metadata": {},
   "source": [
    "# Which poison pokemon has the strongest attack ?"
   ]
  },
  {
   "cell_type": "code",
   "execution_count": null,
   "id": "386660bd",
   "metadata": {},
   "outputs": [],
   "source": [
    "i unfortuantely delete the Type 2 column"
   ]
  },
  {
   "cell_type": "markdown",
   "id": "665219e3",
   "metadata": {},
   "source": [
    " # Which is the second fastest non-legendary 'Ghost' type pokemon from 4th generation ?\n"
   ]
  },
  {
   "cell_type": "code",
   "execution_count": 39,
   "id": "b85c7eb6",
   "metadata": {},
   "outputs": [
    {
     "name": "stdout",
     "output_type": "stream",
     "text": [
      "#                  477\n",
      "Name          Dusknoir\n",
      "Type 1           Ghost\n",
      "Total              525\n",
      "HP                  45\n",
      "Attack             100\n",
      "Defense            135\n",
      "Sp. Atk             65\n",
      "Sp. Def            135\n",
      "Speed               45\n",
      "Generation           4\n",
      "Legendary        False\n",
      "Name: 529, dtype: object\n"
     ]
    }
   ],
   "source": [
    "gp4_gen = df[(df['Type 1'] == 'Ghost') & (df['Generation'] == 4) & (df['Legendary'] == False)]\n",
    "gps = gp4_gen.sort_values(by='Speed')\n",
    "sfg = gps.iloc[1]\n",
    "print(sfg)"
   ]
  },
  {
   "cell_type": "markdown",
   "id": "761de93d",
   "metadata": {},
   "source": [
    "# 8. How many non-legendary pokemons have stronger defence but weaker attack than Charizard?"
   ]
  },
  {
   "cell_type": "code",
   "execution_count": 42,
   "id": "cd7b8fad",
   "metadata": {},
   "outputs": [
    {
     "name": "stdout",
     "output_type": "stream",
     "text": [
      "116\n"
     ]
    }
   ],
   "source": [
    "charizard = df[df['Name'] == 'Charizard'].iloc[0]\n",
    "charizard_attack = charizard['Attack']\n",
    "charizard_defense = charizard['Defense']\n",
    "\n",
    "filtered_pokemon = df[(df['Legendary'] == False) &  (df['Defense'] > charizard_defense) &  (df['Attack'] < charizard_attack)] \n",
    "\n",
    "how_many = len(filtered_pokemon)\n",
    "print(how_many)"
   ]
  },
  {
   "cell_type": "markdown",
   "id": "c1492d08",
   "metadata": {},
   "source": [
    "# Bonus Questions\n",
    "Here are some bonus questions that you can try further !\n",
    "These questions are UNGRADED, and are given as an extra exercise."
   ]
  },
  {
   "cell_type": "markdown",
   "id": "c498223e",
   "metadata": {},
   "source": [
    "# Which pokemon has the highest combined value of Attack and Sp. Atk ?"
   ]
  },
  {
   "cell_type": "code",
   "execution_count": 43,
   "id": "280a0045",
   "metadata": {},
   "outputs": [
    {
     "name": "stdout",
     "output_type": "stream",
     "text": [
      "#                                    384\n",
      "Name               RayquazaMega Rayquaza\n",
      "Type 1                            Dragon\n",
      "Total                                780\n",
      "HP                                   105\n",
      "Attack                               180\n",
      "Defense                              100\n",
      "Sp. Atk                              180\n",
      "Sp. Def                              100\n",
      "Speed                                115\n",
      "Generation                             3\n",
      "Legendary                           True\n",
      "Combined Attack                      360\n",
      "Name: 426, dtype: object\n"
     ]
    }
   ],
   "source": [
    "df['Combined Attack'] = df['Attack'] + df['Sp. Atk']\n",
    "max_attack_pokemon = df.loc[df['Combined Attack'].idxmax()]\n",
    "print(max_attack_pokemon)"
   ]
  },
  {
   "cell_type": "markdown",
   "id": "1a71ee49",
   "metadata": {},
   "source": [
    "# Which type of legendary pokemons are the most common?"
   ]
  },
  {
   "cell_type": "code",
   "execution_count": null,
   "id": "56c5e5f5",
   "metadata": {},
   "outputs": [],
   "source": []
  }
 ],
 "metadata": {
  "kernelspec": {
   "display_name": "Python 3",
   "language": "python",
   "name": "python3"
  },
  "language_info": {
   "codemirror_mode": {
    "name": "ipython",
    "version": 3
   },
   "file_extension": ".py",
   "mimetype": "text/x-python",
   "name": "python",
   "nbconvert_exporter": "python",
   "pygments_lexer": "ipython3",
   "version": "3.13.3"
  }
 },
 "nbformat": 4,
 "nbformat_minor": 5
}
