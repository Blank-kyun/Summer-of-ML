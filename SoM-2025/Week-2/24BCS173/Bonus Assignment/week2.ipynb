{
 "cells": [
  {
   "cell_type": "markdown",
   "id": "663f7917",
   "metadata": {},
   "source": [
    "# sir right now I dont have that much knowledge so after completing the rest part of week2 "
   ]
  },
  {
   "cell_type": "markdown",
   "id": "0460d053",
   "metadata": {},
   "source": [
    "I tried but doesnot understand "
   ]
  }
 ],
 "metadata": {
  "kernelspec": {
   "display_name": ".venv",
   "language": "python",
   "name": "python3"
  },
  "language_info": {
   "codemirror_mode": {
    "name": "ipython",
    "version": 3
   },
   "file_extension": ".py",
   "mimetype": "text/x-python",
   "name": "python",
   "nbconvert_exporter": "python",
   "pygments_lexer": "ipython3",
   "version": "3.13.3"
  }
 },
 "nbformat": 4,
 "nbformat_minor": 5
}
