{
  "cells": [
    {
      "cell_type": "markdown",
      "metadata": {
        "id": "cFFGn7sdEYqp"
      },
      "source": [
        "Link to dataset : https://drive.google.com/file/d/1sbQ5WJ-KCPBrhT2YagtaARGoujCMpB8Q/view"
      ]
    },
    {
      "cell_type": "markdown",
      "metadata": {
        "id": "8LmHV7W9GevP"
      },
      "source": [
        "# SA-2025 WEEK 3 GRADED ASSIGNMENT\n",
        "\n",
        "> Spaceship Titanic\n",
        "\n",
        "Predict which passengers are transported to an alternate dimension\n",
        "\n",
        "![](https://www.gannett-cdn.com/-mm-/682bf77435754aee88576469063388a7d8b07c2a/c=0-150-1280-873/local/-/media/2017/02/01/Reno/RGJ/636215634914521096-image001.jpg?width=660&height=373&fit=crop&format=pjpg&auto=webp)\n"
      ]
    },
    {
      "cell_type": "markdown",
      "metadata": {
        "id": "oLt5SCtVJpr3"
      },
      "source": [
        "### <b>Description</b>\n",
        "\n",
        "Welcome to the year 2912, where your data science skills are needed to solve a cosmic mystery. We've received a transmission from four lightyears away and things aren't looking good.\n",
        "\n",
        "The Spaceship Titanic was an interstellar passenger liner launched a month ago. With almost 13,000 passengers on board, the vessel set out on its maiden voyage transporting emigrants from our solar system to three newly habitable exoplanets orbiting nearby stars.\n",
        "\n",
        "While rounding Alpha Centauri en route to its first destination—the torrid 55 Cancri E—the unwary Spaceship Titanic collided with a spacetime anomaly hidden within a dust cloud. Sadly, it met a similar fate as its namesake from 1000 years before. Though the ship stayed intact, almost half of the passengers were transported to an alternate dimension!"
      ]
    },
    {
      "cell_type": "markdown",
      "metadata": {
        "id": "y9Gca7_uNwH0"
      },
      "source": [
        "### <b>Data description</b>\n",
        "\n",
        "- Personal records for about two-thirds (~8700) of the passengers, to be used as training data.\n",
        "- <code>PassengerId</code> - A unique Id for each passenger. Each Id takes the form gggg_pp where gggg indicates a group the passenger is travelling with and pp is their number within the group. People in a group are often family members, but not always.\n",
        "- <code>HomePlanet</code> - The planet the passenger departed from, typically their planet of permanent residence.\n",
        "- <code>CryoSleep</code> - Indicates whether the passenger elected to be put into suspended animation for the duration of the voyage. Passengers in cryosleep are confined to their cabins.\n",
        "- <code>Cabin</code> - The cabin number where the passenger is staying. Takes the form deck/num/side, where side can be either P for Port or S for Starboard.\n",
        "- <code>Destination</code> - The planet the passenger will be debarking to.\n",
        "- <code>Age</code> - The age of the passenger.\n",
        "- <code>VIP</code> - Whether the passenger has paid for special VIP service during the voyage.\n",
        "- <code>RoomService, FoodCourt, ShoppingMall, Spa, VRDeck</code> - Amount the passenger has billed at each of the Spaceship Titanic's many luxury amenities.\n",
        "- <code>Name</code> - The first and last names of the passenger.\n",
        "- <code>Transported</code> - Whether the passenger was transported to another dimension. This is the target, the column you are trying to predict.\n"
      ]
    },
    {
      "cell_type": "markdown",
      "metadata": {
        "id": "QFtglLAEN18g"
      },
      "source": [
        "### <b>Algorithm Documentation</b> (Highly recommended!)\n",
        "- <code>Logistic Regression</code> : https://scikit-learn.org/stable/modules/generated/sklearn.linear_model.LogisticRegression.html\n",
        "- <code>SVM</code> : https://scikit-learn.org/stable/modules/svm.html\n",
        "Confusion Matrix : https://scikit-learn.org/stable/modules/generated/sklearn.metrics.confusion_matrix.html\n",
        "- <code>Plot Confusion Matrix</code> : https://scikit-learn.org/stable/modules/generated/sklearn.metrics.plot_confusion_matrix.html\n",
        "- <code>ROC_AUC Score</code> : https://scikit-learn.org/stable/modules/generated/sklearn.metrics.roc_auc_score.html#sklearn.metrics.roc_auc_score\n",
        "- <code>Classification Report</code> : https://scikit-learn.org/stable/modules/generated/sklearn.metrics.classification_report.html\n",
        "- <code>Label Encoder</code> : https://scikit-learn.org/stable/modules/generated/sklearn.preprocessing.LabelEncoder.html\n",
        "- <code>Label Binarizer</code> : https://scikit-learn.org/stable/modules/generated/sklearn.preprocessing.LabelBinarizer.html\n",
        "- <code>Standard Scaler</code> : https://scikit-learn.org/stable/modules/generated/sklearn.preprocessing.StandardScaler.html\n",
        "- <code>Cross Val Score</code> : https://scikit-learn.org/stable/modules/generated/sklearn.model_selection.cross_val_score.html"
      ]
    },
    {
      "cell_type": "markdown",
      "metadata": {
        "id": "v7NbAQfaPzYu"
      },
      "source": [
        "# <span><h1 style = \"font-family: garamond; font-size: 40px; font-style: normal; letter-spcaing: 3px; background-color: #f6f5f5; color :#fe346e; border-radius: 100px 100px; text-align:center\">Install Required Libraries</h1></span>"
      ]
    },
    {
      "cell_type": "code",
      "execution_count": 1,
      "metadata": {
        "id": "whfIvh8l_a38"
      },
      "outputs": [
        {
          "name": "stdout",
          "output_type": "stream",
          "text": [
            "Requirement already satisfied: scikit-learn in c:\\users\\harsh pandey\\appdata\\local\\packages\\pythonsoftwarefoundation.python.3.10_qbz5n2kfra8p0\\localcache\\local-packages\\python310\\site-packages (1.7.0)\n",
            "Requirement already satisfied: threadpoolctl>=3.1.0 in c:\\users\\harsh pandey\\appdata\\local\\packages\\pythonsoftwarefoundation.python.3.10_qbz5n2kfra8p0\\localcache\\local-packages\\python310\\site-packages (from scikit-learn) (3.6.0)\n",
            "Requirement already satisfied: joblib>=1.2.0 in c:\\users\\harsh pandey\\appdata\\local\\packages\\pythonsoftwarefoundation.python.3.10_qbz5n2kfra8p0\\localcache\\local-packages\\python310\\site-packages (from scikit-learn) (1.5.1)\n",
            "Requirement already satisfied: numpy>=1.22.0 in c:\\users\\harsh pandey\\appdata\\local\\packages\\pythonsoftwarefoundation.python.3.10_qbz5n2kfra8p0\\localcache\\local-packages\\python310\\site-packages (from scikit-learn) (2.2.6)\n",
            "Requirement already satisfied: scipy>=1.8.0 in c:\\users\\harsh pandey\\appdata\\local\\packages\\pythonsoftwarefoundation.python.3.10_qbz5n2kfra8p0\\localcache\\local-packages\\python310\\site-packages (from scikit-learn) (1.15.3)\n"
          ]
        },
        {
          "name": "stderr",
          "output_type": "stream",
          "text": [
            "\n",
            "[notice] A new release of pip is available: 23.0.1 -> 25.1.1\n",
            "[notice] To update, run: C:\\Users\\Harsh Pandey\\AppData\\Local\\Microsoft\\WindowsApps\\PythonSoftwareFoundation.Python.3.10_qbz5n2kfra8p0\\python.exe -m pip install --upgrade pip\n"
          ]
        }
      ],
      "source": [
        "!pip install --upgrade scikit-learn \n",
        " # There was an error with importing confusion_matrix from sklearn.mertices , so there was a need to upgrade it for google colab\n",
        "# even after upgrading the plot_confusion_matrix didnt worked as it has been changed in new version"
      ]
    },
    {
      "cell_type": "code",
      "execution_count": 2,
      "metadata": {
        "id": "xoIlRrQsOGUu"
      },
      "outputs": [],
      "source": [
        "## ======== YOUR CODE HERE ======== ##\n",
        "import numpy as np\n",
        "import pandas as pd\n",
        "import matplotlib.pyplot as pyplot"
      ]
    },
    {
      "cell_type": "markdown",
      "metadata": {
        "id": "UH9QQTGtQR-O"
      },
      "source": [
        "#### Read the data"
      ]
    },
    {
      "cell_type": "code",
      "execution_count": 3,
      "metadata": {
        "id": "zlpfluw5q2hb"
      },
      "outputs": [
        {
          "data": {
            "text/html": [
              "<div>\n",
              "<style scoped>\n",
              "    .dataframe tbody tr th:only-of-type {\n",
              "        vertical-align: middle;\n",
              "    }\n",
              "\n",
              "    .dataframe tbody tr th {\n",
              "        vertical-align: top;\n",
              "    }\n",
              "\n",
              "    .dataframe thead th {\n",
              "        text-align: right;\n",
              "    }\n",
              "</style>\n",
              "<table border=\"1\" class=\"dataframe\">\n",
              "  <thead>\n",
              "    <tr style=\"text-align: right;\">\n",
              "      <th></th>\n",
              "      <th>PassengerId</th>\n",
              "      <th>HomePlanet</th>\n",
              "      <th>CryoSleep</th>\n",
              "      <th>Cabin</th>\n",
              "      <th>Destination</th>\n",
              "      <th>Age</th>\n",
              "      <th>VIP</th>\n",
              "      <th>RoomService</th>\n",
              "      <th>FoodCourt</th>\n",
              "      <th>ShoppingMall</th>\n",
              "      <th>Spa</th>\n",
              "      <th>VRDeck</th>\n",
              "      <th>Name</th>\n",
              "      <th>Transported</th>\n",
              "    </tr>\n",
              "  </thead>\n",
              "  <tbody>\n",
              "    <tr>\n",
              "      <th>0</th>\n",
              "      <td>0001_01</td>\n",
              "      <td>Europa</td>\n",
              "      <td>False</td>\n",
              "      <td>B/0/P</td>\n",
              "      <td>Andromeda</td>\n",
              "      <td>39</td>\n",
              "      <td>False</td>\n",
              "      <td>0</td>\n",
              "      <td>0</td>\n",
              "      <td>0</td>\n",
              "      <td>0</td>\n",
              "      <td>0</td>\n",
              "      <td>Maham Ofracculy</td>\n",
              "      <td>False</td>\n",
              "    </tr>\n",
              "    <tr>\n",
              "      <th>1</th>\n",
              "      <td>0002_01</td>\n",
              "      <td>Earth</td>\n",
              "      <td>False</td>\n",
              "      <td>F/0/S</td>\n",
              "      <td>Andromeda</td>\n",
              "      <td>24</td>\n",
              "      <td>False</td>\n",
              "      <td>109</td>\n",
              "      <td>9</td>\n",
              "      <td>25</td>\n",
              "      <td>549</td>\n",
              "      <td>44</td>\n",
              "      <td>Juanna Vines</td>\n",
              "      <td>True</td>\n",
              "    </tr>\n",
              "    <tr>\n",
              "      <th>2</th>\n",
              "      <td>0003_01</td>\n",
              "      <td>Europa</td>\n",
              "      <td>False</td>\n",
              "      <td>A/0/S</td>\n",
              "      <td>Andromeda</td>\n",
              "      <td>58</td>\n",
              "      <td>True</td>\n",
              "      <td>43</td>\n",
              "      <td>3576</td>\n",
              "      <td>0</td>\n",
              "      <td>6715</td>\n",
              "      <td>49</td>\n",
              "      <td>Altark Susent</td>\n",
              "      <td>False</td>\n",
              "    </tr>\n",
              "    <tr>\n",
              "      <th>3</th>\n",
              "      <td>0003_02</td>\n",
              "      <td>Europa</td>\n",
              "      <td>False</td>\n",
              "      <td>A/0/S</td>\n",
              "      <td>Andromeda</td>\n",
              "      <td>33</td>\n",
              "      <td>False</td>\n",
              "      <td>0</td>\n",
              "      <td>1283</td>\n",
              "      <td>371</td>\n",
              "      <td>3329</td>\n",
              "      <td>193</td>\n",
              "      <td>Solam Susent</td>\n",
              "      <td>False</td>\n",
              "    </tr>\n",
              "    <tr>\n",
              "      <th>4</th>\n",
              "      <td>0004_01</td>\n",
              "      <td>Earth</td>\n",
              "      <td>False</td>\n",
              "      <td>F/1/S</td>\n",
              "      <td>Andromeda</td>\n",
              "      <td>16</td>\n",
              "      <td>False</td>\n",
              "      <td>303</td>\n",
              "      <td>70</td>\n",
              "      <td>151</td>\n",
              "      <td>565</td>\n",
              "      <td>2</td>\n",
              "      <td>Willy Santantines</td>\n",
              "      <td>True</td>\n",
              "    </tr>\n",
              "    <tr>\n",
              "      <th>...</th>\n",
              "      <td>...</td>\n",
              "      <td>...</td>\n",
              "      <td>...</td>\n",
              "      <td>...</td>\n",
              "      <td>...</td>\n",
              "      <td>...</td>\n",
              "      <td>...</td>\n",
              "      <td>...</td>\n",
              "      <td>...</td>\n",
              "      <td>...</td>\n",
              "      <td>...</td>\n",
              "      <td>...</td>\n",
              "      <td>...</td>\n",
              "      <td>...</td>\n",
              "    </tr>\n",
              "    <tr>\n",
              "      <th>8688</th>\n",
              "      <td>9276_01</td>\n",
              "      <td>Europa</td>\n",
              "      <td>False</td>\n",
              "      <td>A/98/P</td>\n",
              "      <td>Virgo</td>\n",
              "      <td>41</td>\n",
              "      <td>True</td>\n",
              "      <td>0</td>\n",
              "      <td>6819</td>\n",
              "      <td>0</td>\n",
              "      <td>1643</td>\n",
              "      <td>74</td>\n",
              "      <td>Gravior Noxnuther</td>\n",
              "      <td>False</td>\n",
              "    </tr>\n",
              "    <tr>\n",
              "      <th>8689</th>\n",
              "      <td>9278_01</td>\n",
              "      <td>Earth</td>\n",
              "      <td>True</td>\n",
              "      <td>G/1499/S</td>\n",
              "      <td>Cygnus</td>\n",
              "      <td>18</td>\n",
              "      <td>False</td>\n",
              "      <td>0</td>\n",
              "      <td>0</td>\n",
              "      <td>0</td>\n",
              "      <td>0</td>\n",
              "      <td>0</td>\n",
              "      <td>Kurta Mondalley</td>\n",
              "      <td>False</td>\n",
              "    </tr>\n",
              "    <tr>\n",
              "      <th>8690</th>\n",
              "      <td>9279_01</td>\n",
              "      <td>Earth</td>\n",
              "      <td>False</td>\n",
              "      <td>G/1500/S</td>\n",
              "      <td>Andromeda</td>\n",
              "      <td>26</td>\n",
              "      <td>False</td>\n",
              "      <td>0</td>\n",
              "      <td>0</td>\n",
              "      <td>1872</td>\n",
              "      <td>1</td>\n",
              "      <td>0</td>\n",
              "      <td>Fayey Connon</td>\n",
              "      <td>True</td>\n",
              "    </tr>\n",
              "    <tr>\n",
              "      <th>8691</th>\n",
              "      <td>9280_01</td>\n",
              "      <td>Europa</td>\n",
              "      <td>False</td>\n",
              "      <td>E/608/S</td>\n",
              "      <td>Virgo</td>\n",
              "      <td>32</td>\n",
              "      <td>False</td>\n",
              "      <td>0</td>\n",
              "      <td>1049</td>\n",
              "      <td>0</td>\n",
              "      <td>353</td>\n",
              "      <td>3235</td>\n",
              "      <td>Celeon Hontichre</td>\n",
              "      <td>False</td>\n",
              "    </tr>\n",
              "    <tr>\n",
              "      <th>8692</th>\n",
              "      <td>9280_02</td>\n",
              "      <td>Europa</td>\n",
              "      <td>False</td>\n",
              "      <td>E/608/S</td>\n",
              "      <td>Andromeda</td>\n",
              "      <td>44</td>\n",
              "      <td>False</td>\n",
              "      <td>126</td>\n",
              "      <td>4688</td>\n",
              "      <td>0</td>\n",
              "      <td>0</td>\n",
              "      <td>12</td>\n",
              "      <td>Propsh Hontichre</td>\n",
              "      <td>True</td>\n",
              "    </tr>\n",
              "  </tbody>\n",
              "</table>\n",
              "<p>8693 rows × 14 columns</p>\n",
              "</div>"
            ],
            "text/plain": [
              "     PassengerId HomePlanet  CryoSleep     Cabin Destination  Age    VIP  \\\n",
              "0        0001_01     Europa      False     B/0/P   Andromeda   39  False   \n",
              "1        0002_01      Earth      False     F/0/S   Andromeda   24  False   \n",
              "2        0003_01     Europa      False     A/0/S   Andromeda   58   True   \n",
              "3        0003_02     Europa      False     A/0/S   Andromeda   33  False   \n",
              "4        0004_01      Earth      False     F/1/S   Andromeda   16  False   \n",
              "...          ...        ...        ...       ...         ...  ...    ...   \n",
              "8688     9276_01     Europa      False    A/98/P       Virgo   41   True   \n",
              "8689     9278_01      Earth       True  G/1499/S      Cygnus   18  False   \n",
              "8690     9279_01      Earth      False  G/1500/S   Andromeda   26  False   \n",
              "8691     9280_01     Europa      False   E/608/S       Virgo   32  False   \n",
              "8692     9280_02     Europa      False   E/608/S   Andromeda   44  False   \n",
              "\n",
              "      RoomService  FoodCourt  ShoppingMall   Spa  VRDeck               Name  \\\n",
              "0               0          0             0     0       0    Maham Ofracculy   \n",
              "1             109          9            25   549      44       Juanna Vines   \n",
              "2              43       3576             0  6715      49      Altark Susent   \n",
              "3               0       1283           371  3329     193       Solam Susent   \n",
              "4             303         70           151   565       2  Willy Santantines   \n",
              "...           ...        ...           ...   ...     ...                ...   \n",
              "8688            0       6819             0  1643      74  Gravior Noxnuther   \n",
              "8689            0          0             0     0       0    Kurta Mondalley   \n",
              "8690            0          0          1872     1       0       Fayey Connon   \n",
              "8691            0       1049             0   353    3235   Celeon Hontichre   \n",
              "8692          126       4688             0     0      12   Propsh Hontichre   \n",
              "\n",
              "      Transported  \n",
              "0           False  \n",
              "1            True  \n",
              "2           False  \n",
              "3           False  \n",
              "4            True  \n",
              "...           ...  \n",
              "8688        False  \n",
              "8689        False  \n",
              "8690         True  \n",
              "8691        False  \n",
              "8692         True  \n",
              "\n",
              "[8693 rows x 14 columns]"
            ]
          },
          "execution_count": 3,
          "metadata": {},
          "output_type": "execute_result"
        }
      ],
      "source": [
        "df = pd.read_csv('data.csv')\n",
        "df"
      ]
    },
    {
      "cell_type": "markdown",
      "metadata": {
        "id": "TctF3H_SUePG"
      },
      "source": [
        "#### Check the shape of data. It should be  (8693, 14)"
      ]
    },
    {
      "cell_type": "code",
      "execution_count": 4,
      "metadata": {
        "id": "T5wuaGN7LY7M"
      },
      "outputs": [
        {
          "data": {
            "text/plain": [
              "(8693, 14)"
            ]
          },
          "execution_count": 4,
          "metadata": {},
          "output_type": "execute_result"
        }
      ],
      "source": [
        "## ======== YOUR CODE HERE ======== ##\n",
        "df.shape\n",
        "## ================================ ##"
      ]
    },
    {
      "cell_type": "markdown",
      "metadata": {
        "id": "qtkIiZmwUpDM"
      },
      "source": [
        "#### Apply describe on dataframe"
      ]
    },
    {
      "cell_type": "code",
      "execution_count": 5,
      "metadata": {
        "id": "oa9X6NTxQlzk"
      },
      "outputs": [
        {
          "data": {
            "text/html": [
              "<div>\n",
              "<style scoped>\n",
              "    .dataframe tbody tr th:only-of-type {\n",
              "        vertical-align: middle;\n",
              "    }\n",
              "\n",
              "    .dataframe tbody tr th {\n",
              "        vertical-align: top;\n",
              "    }\n",
              "\n",
              "    .dataframe thead th {\n",
              "        text-align: right;\n",
              "    }\n",
              "</style>\n",
              "<table border=\"1\" class=\"dataframe\">\n",
              "  <thead>\n",
              "    <tr style=\"text-align: right;\">\n",
              "      <th></th>\n",
              "      <th>Age</th>\n",
              "      <th>RoomService</th>\n",
              "      <th>FoodCourt</th>\n",
              "      <th>ShoppingMall</th>\n",
              "      <th>Spa</th>\n",
              "      <th>VRDeck</th>\n",
              "    </tr>\n",
              "  </thead>\n",
              "  <tbody>\n",
              "    <tr>\n",
              "      <th>count</th>\n",
              "      <td>8693.000000</td>\n",
              "      <td>8693.000000</td>\n",
              "      <td>8693.000000</td>\n",
              "      <td>8693.000000</td>\n",
              "      <td>8693.000000</td>\n",
              "      <td>8693.000000</td>\n",
              "    </tr>\n",
              "    <tr>\n",
              "      <th>mean</th>\n",
              "      <td>28.728517</td>\n",
              "      <td>220.009318</td>\n",
              "      <td>448.434027</td>\n",
              "      <td>169.572300</td>\n",
              "      <td>304.588865</td>\n",
              "      <td>298.261820</td>\n",
              "    </tr>\n",
              "    <tr>\n",
              "      <th>std</th>\n",
              "      <td>14.355438</td>\n",
              "      <td>660.519050</td>\n",
              "      <td>1595.790627</td>\n",
              "      <td>598.007164</td>\n",
              "      <td>1125.562559</td>\n",
              "      <td>1134.126417</td>\n",
              "    </tr>\n",
              "    <tr>\n",
              "      <th>min</th>\n",
              "      <td>0.000000</td>\n",
              "      <td>0.000000</td>\n",
              "      <td>0.000000</td>\n",
              "      <td>0.000000</td>\n",
              "      <td>0.000000</td>\n",
              "      <td>0.000000</td>\n",
              "    </tr>\n",
              "    <tr>\n",
              "      <th>25%</th>\n",
              "      <td>20.000000</td>\n",
              "      <td>0.000000</td>\n",
              "      <td>0.000000</td>\n",
              "      <td>0.000000</td>\n",
              "      <td>0.000000</td>\n",
              "      <td>0.000000</td>\n",
              "    </tr>\n",
              "    <tr>\n",
              "      <th>50%</th>\n",
              "      <td>27.000000</td>\n",
              "      <td>0.000000</td>\n",
              "      <td>0.000000</td>\n",
              "      <td>0.000000</td>\n",
              "      <td>0.000000</td>\n",
              "      <td>0.000000</td>\n",
              "    </tr>\n",
              "    <tr>\n",
              "      <th>75%</th>\n",
              "      <td>37.000000</td>\n",
              "      <td>41.000000</td>\n",
              "      <td>61.000000</td>\n",
              "      <td>22.000000</td>\n",
              "      <td>53.000000</td>\n",
              "      <td>40.000000</td>\n",
              "    </tr>\n",
              "    <tr>\n",
              "      <th>max</th>\n",
              "      <td>79.000000</td>\n",
              "      <td>14327.000000</td>\n",
              "      <td>29813.000000</td>\n",
              "      <td>23492.000000</td>\n",
              "      <td>22408.000000</td>\n",
              "      <td>24133.000000</td>\n",
              "    </tr>\n",
              "  </tbody>\n",
              "</table>\n",
              "</div>"
            ],
            "text/plain": [
              "               Age   RoomService     FoodCourt  ShoppingMall           Spa  \\\n",
              "count  8693.000000   8693.000000   8693.000000   8693.000000   8693.000000   \n",
              "mean     28.728517    220.009318    448.434027    169.572300    304.588865   \n",
              "std      14.355438    660.519050   1595.790627    598.007164   1125.562559   \n",
              "min       0.000000      0.000000      0.000000      0.000000      0.000000   \n",
              "25%      20.000000      0.000000      0.000000      0.000000      0.000000   \n",
              "50%      27.000000      0.000000      0.000000      0.000000      0.000000   \n",
              "75%      37.000000     41.000000     61.000000     22.000000     53.000000   \n",
              "max      79.000000  14327.000000  29813.000000  23492.000000  22408.000000   \n",
              "\n",
              "             VRDeck  \n",
              "count   8693.000000  \n",
              "mean     298.261820  \n",
              "std     1134.126417  \n",
              "min        0.000000  \n",
              "25%        0.000000  \n",
              "50%        0.000000  \n",
              "75%       40.000000  \n",
              "max    24133.000000  "
            ]
          },
          "execution_count": 5,
          "metadata": {},
          "output_type": "execute_result"
        }
      ],
      "source": [
        "## ======== YOUR CODE HERE ======== ##\n",
        "df.describe()\n",
        "## ================================ ##"
      ]
    },
    {
      "cell_type": "markdown",
      "metadata": {
        "id": "jtuqbR3LUsws"
      },
      "source": [
        "#### Check if there any null value in the dataset."
      ]
    },
    {
      "cell_type": "code",
      "execution_count": 6,
      "metadata": {
        "id": "NH6Ky_nqQxtE"
      },
      "outputs": [
        {
          "data": {
            "text/plain": [
              "0"
            ]
          },
          "execution_count": 6,
          "metadata": {},
          "output_type": "execute_result"
        }
      ],
      "source": [
        "## ======== YOUR CODE HERE ======== ##\n",
        "df.isnull().sum().sum()\n",
        "\n",
        "## ================================ ##"
      ]
    },
    {
      "cell_type": "markdown",
      "metadata": {
        "id": "XA8O-zuLU00Q"
      },
      "source": [
        "#### Number continuous and categorical features"
      ]
    },
    {
      "cell_type": "code",
      "execution_count": 7,
      "metadata": {
        "id": "bnEHaL-cUUQ4"
      },
      "outputs": [
        {
          "data": {
            "text/plain": [
              "(5, 6)"
            ]
          },
          "execution_count": 7,
          "metadata": {},
          "output_type": "execute_result"
        }
      ],
      "source": [
        "#################################################################\n",
        "\n",
        "# Don't make mistake here. Ask in the discussion section if you are stuck. Help will be provided....\n",
        "\n",
        "#################################################################\n",
        "\n",
        "## ======== YOUR CODE HERE ======== ##\n",
        "obj_df = df.select_dtypes(include=['object'])\n",
        "num_df = df.select_dtypes(include=['number'])\n",
        "count_obj = obj_df.shape[1]\n",
        "count_num = num_df.shape[1]\n",
        "count_obj,count_num\n",
        "## ======== YOUR CODE HERE ======== ##"
      ]
    },
    {
      "cell_type": "markdown",
      "metadata": {
        "id": "nvbf6praYa0l"
      },
      "source": [
        "#### Unique values"
      ]
    },
    {
      "cell_type": "code",
      "execution_count": 8,
      "metadata": {
        "id": "YHRaNXWuZecT"
      },
      "outputs": [
        {
          "data": {
            "text/plain": [
              "PassengerId    8693\n",
              "HomePlanet        3\n",
              "Cabin          6560\n",
              "Destination       3\n",
              "Name           8473\n",
              "dtype: int64"
            ]
          },
          "execution_count": 8,
          "metadata": {},
          "output_type": "execute_result"
        }
      ],
      "source": [
        "# Print the number of unique values of the categorical features\n",
        "\n",
        "## ======== YOUR CODE HERE ======== ##\n",
        "obj_df.nunique()\n",
        "## ======== YOUR CODE HERE ======== ##\n",
        "\n",
        "# seeing the n-unique for passengerID , we can say there is no error and no overlap in passengerID as all are unique .\n",
        "# But there is an anomaly as Name of passengers might overlap as not all of them are unique ."
      ]
    },
    {
      "cell_type": "markdown",
      "metadata": {
        "id": "0oojkTXNbSsU"
      },
      "source": [
        "<code>Note: If we apply one-hot-encoding to a categorical feature with many unique values, </code>\n",
        "- Number of columns will be high\n",
        "- Time required for training a model will be high\n",
        "- We may not get usefull insights about the data\n",
        "\n",
        "<code>This is the reason we are droping the features with more unique values.</code>\n"
      ]
    },
    {
      "cell_type": "markdown",
      "metadata": {
        "id": "cDThwpZKdjKT"
      },
      "source": [
        "#### Drop the features"
      ]
    },
    {
      "cell_type": "code",
      "execution_count": 9,
      "metadata": {
        "id": "s1wMTAeJdqQb"
      },
      "outputs": [
        {
          "data": {
            "text/plain": [
              "(8693, 11)"
            ]
          },
          "execution_count": 9,
          "metadata": {},
          "output_type": "execute_result"
        }
      ],
      "source": [
        "# Drop those categorical features which have more than 25 unique values\n",
        "\n",
        "## ======== YOUR CODE HERE ======== ##\n",
        "for i in obj_df:\n",
        "    if obj_df[i].nunique()>25:\n",
        "        df.drop(i,axis=1,inplace=True)\n",
        "\n",
        "## ======== YOUR CODE HERE ======== ##\n",
        "\n",
        "# Print the shape after droping the features\n",
        "# Check: Shape --> (8693, 11)\n",
        "\n",
        "## ======== YOUR CODE HERE ======== ##\n",
        "df.shape\n",
        "## ======== YOUR CODE HERE ======== ##"
      ]
    },
    {
      "cell_type": "markdown",
      "metadata": {
        "id": "k6giFKFeevim"
      },
      "source": [
        "#### One Hot Encoding"
      ]
    },
    {
      "cell_type": "code",
      "execution_count": 10,
      "metadata": {
        "id": "3BVX8hQhW8JT"
      },
      "outputs": [
        {
          "data": {
            "text/plain": [
              "(8693, 15)"
            ]
          },
          "execution_count": 10,
          "metadata": {},
          "output_type": "execute_result"
        }
      ],
      "source": [
        "# Hint: search for get_dummies\n",
        "\n",
        "## ======== YOUR CODE HERE ======== ##\n",
        "df=pd.get_dummies(df)\n",
        "df.shape\n",
        "## ======== YOUR CODE HERE ======== ##\n",
        "\n",
        "# Check: Shape --> (8693, 15)\n"
      ]
    },
    {
      "cell_type": "markdown",
      "metadata": {
        "id": "9_HhXZhJjJrC"
      },
      "source": [
        "#### Changing bool columns to 0,1"
      ]
    },
    {
      "cell_type": "code",
      "execution_count": 11,
      "metadata": {
        "id": "6BGjAjk5emqP"
      },
      "outputs": [
        {
          "data": {
            "text/html": [
              "<div>\n",
              "<style scoped>\n",
              "    .dataframe tbody tr th:only-of-type {\n",
              "        vertical-align: middle;\n",
              "    }\n",
              "\n",
              "    .dataframe tbody tr th {\n",
              "        vertical-align: top;\n",
              "    }\n",
              "\n",
              "    .dataframe thead th {\n",
              "        text-align: right;\n",
              "    }\n",
              "</style>\n",
              "<table border=\"1\" class=\"dataframe\">\n",
              "  <thead>\n",
              "    <tr style=\"text-align: right;\">\n",
              "      <th></th>\n",
              "      <th>CryoSleep</th>\n",
              "      <th>Age</th>\n",
              "      <th>VIP</th>\n",
              "      <th>RoomService</th>\n",
              "      <th>FoodCourt</th>\n",
              "      <th>ShoppingMall</th>\n",
              "      <th>Spa</th>\n",
              "      <th>VRDeck</th>\n",
              "      <th>Transported</th>\n",
              "      <th>HomePlanet_Earth</th>\n",
              "      <th>HomePlanet_Europa</th>\n",
              "      <th>HomePlanet_Mars</th>\n",
              "      <th>Destination_Andromeda</th>\n",
              "      <th>Destination_Cygnus</th>\n",
              "      <th>Destination_Virgo</th>\n",
              "    </tr>\n",
              "  </thead>\n",
              "  <tbody>\n",
              "    <tr>\n",
              "      <th>0</th>\n",
              "      <td>0</td>\n",
              "      <td>39</td>\n",
              "      <td>0</td>\n",
              "      <td>0</td>\n",
              "      <td>0</td>\n",
              "      <td>0</td>\n",
              "      <td>0</td>\n",
              "      <td>0</td>\n",
              "      <td>0</td>\n",
              "      <td>0</td>\n",
              "      <td>1</td>\n",
              "      <td>0</td>\n",
              "      <td>1</td>\n",
              "      <td>0</td>\n",
              "      <td>0</td>\n",
              "    </tr>\n",
              "    <tr>\n",
              "      <th>1</th>\n",
              "      <td>0</td>\n",
              "      <td>24</td>\n",
              "      <td>0</td>\n",
              "      <td>109</td>\n",
              "      <td>9</td>\n",
              "      <td>25</td>\n",
              "      <td>549</td>\n",
              "      <td>44</td>\n",
              "      <td>1</td>\n",
              "      <td>1</td>\n",
              "      <td>0</td>\n",
              "      <td>0</td>\n",
              "      <td>1</td>\n",
              "      <td>0</td>\n",
              "      <td>0</td>\n",
              "    </tr>\n",
              "    <tr>\n",
              "      <th>2</th>\n",
              "      <td>0</td>\n",
              "      <td>58</td>\n",
              "      <td>1</td>\n",
              "      <td>43</td>\n",
              "      <td>3576</td>\n",
              "      <td>0</td>\n",
              "      <td>6715</td>\n",
              "      <td>49</td>\n",
              "      <td>0</td>\n",
              "      <td>0</td>\n",
              "      <td>1</td>\n",
              "      <td>0</td>\n",
              "      <td>1</td>\n",
              "      <td>0</td>\n",
              "      <td>0</td>\n",
              "    </tr>\n",
              "    <tr>\n",
              "      <th>3</th>\n",
              "      <td>0</td>\n",
              "      <td>33</td>\n",
              "      <td>0</td>\n",
              "      <td>0</td>\n",
              "      <td>1283</td>\n",
              "      <td>371</td>\n",
              "      <td>3329</td>\n",
              "      <td>193</td>\n",
              "      <td>0</td>\n",
              "      <td>0</td>\n",
              "      <td>1</td>\n",
              "      <td>0</td>\n",
              "      <td>1</td>\n",
              "      <td>0</td>\n",
              "      <td>0</td>\n",
              "    </tr>\n",
              "    <tr>\n",
              "      <th>4</th>\n",
              "      <td>0</td>\n",
              "      <td>16</td>\n",
              "      <td>0</td>\n",
              "      <td>303</td>\n",
              "      <td>70</td>\n",
              "      <td>151</td>\n",
              "      <td>565</td>\n",
              "      <td>2</td>\n",
              "      <td>1</td>\n",
              "      <td>1</td>\n",
              "      <td>0</td>\n",
              "      <td>0</td>\n",
              "      <td>1</td>\n",
              "      <td>0</td>\n",
              "      <td>0</td>\n",
              "    </tr>\n",
              "  </tbody>\n",
              "</table>\n",
              "</div>"
            ],
            "text/plain": [
              "   CryoSleep  Age  VIP  RoomService  FoodCourt  ShoppingMall   Spa  VRDeck  \\\n",
              "0          0   39    0            0          0             0     0       0   \n",
              "1          0   24    0          109          9            25   549      44   \n",
              "2          0   58    1           43       3576             0  6715      49   \n",
              "3          0   33    0            0       1283           371  3329     193   \n",
              "4          0   16    0          303         70           151   565       2   \n",
              "\n",
              "   Transported  HomePlanet_Earth  HomePlanet_Europa  HomePlanet_Mars  \\\n",
              "0            0                 0                  1                0   \n",
              "1            1                 1                  0                0   \n",
              "2            0                 0                  1                0   \n",
              "3            0                 0                  1                0   \n",
              "4            1                 1                  0                0   \n",
              "\n",
              "   Destination_Andromeda  Destination_Cygnus  Destination_Virgo  \n",
              "0                      1                   0                  0  \n",
              "1                      1                   0                  0  \n",
              "2                      1                   0                  0  \n",
              "3                      1                   0                  0  \n",
              "4                      1                   0                  0  "
            ]
          },
          "execution_count": 11,
          "metadata": {},
          "output_type": "execute_result"
        }
      ],
      "source": [
        "## ======== Run this code(Don't change any code)======== ##\n",
        "\n",
        "df['CryoSleep'] = df['CryoSleep'].astype(int)\n",
        "df['VIP'] = df['VIP'].astype(int)\n",
        "df['Transported'] = df['Transported'].astype(int)\n",
        "\n",
        "df.head()\n",
        "\n",
        "## ======== Run this code(Don't change any code)======== ##\n"
      ]
    },
    {
      "cell_type": "markdown",
      "metadata": {
        "id": "vz-ytNV0jRmi"
      },
      "source": [
        "#### Split the data into train and test"
      ]
    },
    {
      "cell_type": "code",
      "execution_count": 12,
      "metadata": {
        "id": "zMuBNwpWhZRy"
      },
      "outputs": [],
      "source": [
        "## ======== YOUR CODE HERE ======== ##\n",
        "\n",
        "## Test size should be 15% of the full dataset and use random state = 2022\n",
        "from sklearn.model_selection import train_test_split\n",
        "X=df[['CryoSleep','Age','VIP','RoomService','FoodCourt','ShoppingMall','Spa','VRDeck','HomePlanet_Earth','HomePlanet_Europa','HomePlanet_Mars','Destination_Andromeda',\"Destination_Cygnus\",'Destination_Virgo']]\n",
        "Y=df['Transported']\n",
        "X_train,X_test,Y_train,Y_test=train_test_split(X,Y, test_size=0.15,random_state=2022)\n",
        "## ================================ ##"
      ]
    },
    {
      "cell_type": "code",
      "execution_count": 13,
      "metadata": {
        "id": "VAD29hRbjgYY"
      },
      "outputs": [
        {
          "data": {
            "text/plain": [
              "((7389, 14), (7389,), (1304, 14), (1304,))"
            ]
          },
          "execution_count": 13,
          "metadata": {},
          "output_type": "execute_result"
        }
      ],
      "source": [
        "## ======== YOUR CODE HERE ======== ##\n",
        "X_train.shape,Y_train.shape,X_test.shape,Y_test.shape\n",
        "   ## Let us print the shapes:\n",
        "## ================================ ##"
      ]
    },
    {
      "cell_type": "markdown",
      "metadata": {
        "id": "bIjWDrnEjpia"
      },
      "source": [
        "#### Scale the data using Standard Scaler"
      ]
    },
    {
      "cell_type": "code",
      "execution_count": 14,
      "metadata": {
        "id": "naPlXlFhjkkI"
      },
      "outputs": [
        {
          "data": {
            "text/plain": [
              "(array([[-0.73071355,  1.76909278, -0.15666024, ...,  0.65197571,\n",
              "         -0.31370272, -0.51354161],\n",
              "        [-0.73071355,  0.50762434, -0.15666024, ...,  0.65197571,\n",
              "         -0.31370272, -0.51354161],\n",
              "        [-0.73071355,  0.43754276, -0.15666024, ..., -1.53379948,\n",
              "         -0.31370272,  1.94726187],\n",
              "        ...,\n",
              "        [-0.73071355, -0.26327304, -0.15666024, ..., -1.53379948,\n",
              "          3.18773139, -0.51354161],\n",
              "        [-0.73071355, -0.26327304, -0.15666024, ...,  0.65197571,\n",
              "         -0.31370272, -0.51354161],\n",
              "        [ 1.36852533, -0.0530283 , -0.15666024, ...,  0.65197571,\n",
              "         -0.31370272, -0.51354161]]),\n",
              " array([[-0.74446708, -0.44298676, -0.1309988 , ...,  0.65561007,\n",
              "         -0.33842269, -0.49664265],\n",
              "        [-0.74446708, -1.11734439, -0.1309988 , ..., -1.52529689,\n",
              "          2.95488465, -0.49664265],\n",
              "        [-0.74446708,  0.23137086, -0.1309988 , ...,  0.65561007,\n",
              "         -0.33842269, -0.49664265],\n",
              "        ...,\n",
              "        [-0.74446708, -0.98247286, -0.1309988 , ..., -1.52529689,\n",
              "          2.95488465, -0.49664265],\n",
              "        [ 1.34324275,  0.29880662, -0.1309988 , ...,  0.65561007,\n",
              "         -0.33842269, -0.49664265],\n",
              "        [-0.74446708, -0.71272981, -0.1309988 , ..., -1.52529689,\n",
              "         -0.33842269,  2.01352019]]))"
            ]
          },
          "execution_count": 14,
          "metadata": {},
          "output_type": "execute_result"
        }
      ],
      "source": [
        "## Use Standard Scaler to scale the train and test data\n",
        "\n",
        "\n",
        "## ======== YOUR CODE HERE ======== ##\n",
        "from sklearn.preprocessing import StandardScaler\n",
        "scaler = StandardScaler()\n",
        "X_train_scaled = scaler.fit_transform(X_train)\n",
        "X_test_scaled = scaler.fit_transform(X_test)\n",
        "X_train_scaled,X_test_scaled\n",
        "## ================================ ##"
      ]
    },
    {
      "cell_type": "markdown",
      "metadata": {
        "id": "5LQ24wfSjv0c"
      },
      "source": [
        "## <b>Logistic Regression</b>\n",
        "#### Use default parameters unless mentioned"
      ]
    },
    {
      "cell_type": "code",
      "execution_count": 15,
      "metadata": {
        "id": "Q_05utrBjsEY"
      },
      "outputs": [],
      "source": [
        "## Use Random state = 2021 and fit the LR model\n",
        "\n",
        "## ======== YOUR CODE HERE ======== ##\n",
        "from sklearn.linear_model import LogisticRegression\n",
        "logistic_regression = LogisticRegression(max_iter=1000)\n",
        "logistic_regression.fit(X_train,Y_train)\n",
        "y_pred = logistic_regression.predict(X_test)\n",
        "## ================================ ##"
      ]
    },
    {
      "cell_type": "markdown",
      "metadata": {
        "id": "tTnclsr6kGzY"
      },
      "source": [
        "#### Plot confusion matrix"
      ]
    },
    {
      "cell_type": "code",
      "execution_count": 16,
      "metadata": {
        "id": "OK6afSwBj_2S"
      },
      "outputs": [
        {
          "data": {
            "text/plain": [
              "array([[516, 121],\n",
              "       [143, 524]], dtype=int64)"
            ]
          },
          "execution_count": 16,
          "metadata": {},
          "output_type": "execute_result"
        }
      ],
      "source": [
        "## ======== YOUR CODE HERE ======== ##\n",
        "from sklearn import metrics\n",
        "cnf_matrix = metrics.confusion_matrix(Y_test,y_pred)\n",
        "cnf_matrix\n",
        "## ================================ ##"
      ]
    },
    {
      "cell_type": "markdown",
      "metadata": {
        "id": "2CdCZHpZkdov"
      },
      "source": [
        "#### Print classification report"
      ]
    },
    {
      "cell_type": "code",
      "execution_count": 17,
      "metadata": {
        "id": "pLVPxS33kPlI"
      },
      "outputs": [
        {
          "data": {
            "text/plain": [
              "'              precision    recall  f1-score   support\\n\\n           0       0.78      0.81      0.80       637\\n           1       0.81      0.79      0.80       667\\n\\n    accuracy                           0.80      1304\\n   macro avg       0.80      0.80      0.80      1304\\nweighted avg       0.80      0.80      0.80      1304\\n'"
            ]
          },
          "execution_count": 17,
          "metadata": {},
          "output_type": "execute_result"
        }
      ],
      "source": [
        "## ======== YOUR CODE HERE ======== ##\n",
        "from sklearn.metrics import classification_report\n",
        "classification_report(Y_test,y_pred)\n",
        "## ================================ ##"
      ]
    },
    {
      "cell_type": "markdown",
      "metadata": {
        "id": "dsCHjnQxlB6d"
      },
      "source": [
        "#### Print accuracy score"
      ]
    },
    {
      "cell_type": "code",
      "execution_count": 18,
      "metadata": {
        "id": "fn-CKB9Gkn9X"
      },
      "outputs": [
        {
          "data": {
            "text/plain": [
              "0.7975460122699386"
            ]
          },
          "execution_count": 18,
          "metadata": {},
          "output_type": "execute_result"
        }
      ],
      "source": [
        "## ======== YOUR CODE HERE ======== ##\n",
        "metrics.accuracy_score(Y_test,y_pred)\n",
        "## ================================ ##"
      ]
    },
    {
      "cell_type": "markdown",
      "metadata": {
        "id": "GQXaQcUMlpuW"
      },
      "source": [
        "#### Print ROC-AUC score"
      ]
    },
    {
      "cell_type": "code",
      "execution_count": 19,
      "metadata": {
        "id": "peowPJH3lPQg"
      },
      "outputs": [
        {
          "data": {
            "text/plain": [
              "0.8773886212309857"
            ]
          },
          "execution_count": 19,
          "metadata": {},
          "output_type": "execute_result"
        }
      ],
      "source": [
        "## ======== YOUR CODE HERE ======== ##\n",
        "\n",
        "## Note: Use predict_proba!!! Read documentation/google it\n",
        "pred_prob = logistic_regression.predict_proba(X_test)\n",
        "from sklearn.metrics import roc_auc_score\n",
        "score = roc_auc_score(Y_test,pred_prob[:,1])\n",
        "score\n",
        "## ================================ ##"
      ]
    },
    {
      "cell_type": "markdown",
      "metadata": {
        "id": "WxxoTYomqceD"
      },
      "source": [
        "#### Plot ROC-AUC Curve"
      ]
    },
    {
      "cell_type": "code",
      "execution_count": 20,
      "metadata": {
        "id": "pu-xnAORqhP1"
      },
      "outputs": [
        {
          "data": {
            "image/png": "[encoded data removed]",
            "text/plain": [
              "<Figure size 640x480 with 1 Axes>"
            ]
          },
          "metadata": {},
          "output_type": "display_data"
        }
      ],
      "source": [
        "## ======== YOUR CODE HERE ======== ##\n",
        "\n",
        "## Set appropriate X label, Y label and Title for the graph\n",
        "from sklearn.metrics import roc_curve\n",
        "fpr, tpr, thresh1 = roc_curve(Y_test,pred_prob[:,1],pos_label=1)\n",
        "random_probs = [0 for i in range(len(Y_test))]\n",
        "p_fpr, p_tpr, _ = roc_curve(Y_test, random_probs, pos_label=1)\n",
        "\n",
        "pyplot.plot(fpr, tpr, linestyle='--',color='orange', label='Logistic Regression')\n",
        "pyplot.plot(p_fpr, p_tpr, linestyle='--', color='blue')\n",
        "pyplot.title('ROC curve')\n",
        "\n",
        "pyplot.xlabel('False Positive Rate')\n",
        "pyplot.ylabel('True Positive rate')\n",
        "\n",
        "pyplot.legend(loc='best')\n",
        "pyplot.savefig('ROC')\n",
        "pyplot.show();\n",
        "## ================================ ##"
      ]
    },
    {
      "cell_type": "markdown",
      "metadata": {
        "id": "UvxDjUoNrjYN"
      },
      "source": [
        "#### Cross validation"
      ]
    },
    {
      "cell_type": "code",
      "execution_count": 21,
      "metadata": {
        "id": "Jvx57Bx_rjBn"
      },
      "outputs": [
        {
          "data": {
            "text/plain": [
              "array([0.78619756, 0.79364005, 0.76792963, 0.80243572, 0.7731889 ])"
            ]
          },
          "execution_count": 21,
          "metadata": {},
          "output_type": "execute_result"
        }
      ],
      "source": [
        "## ======== YOUR CODE HERE ======== ##\n",
        "\n",
        "## cv=5\n",
        "from sklearn.model_selection import cross_val_score\n",
        "score = cross_val_score(logistic_regression,X_train_scaled,Y_train,cv=5)\n",
        "score\n",
        "## ================================ ##"
      ]
    },
    {
      "cell_type": "markdown",
      "metadata": {
        "id": "7hQ6KaXenOtN"
      },
      "source": [
        "## <b>SVM</b>\n",
        "#### Use default parameters unless mentioned"
      ]
    },
    {
      "cell_type": "code",
      "execution_count": 22,
      "metadata": {
        "id": "CpY0U9gjmia_"
      },
      "outputs": [],
      "source": [
        "## ======== YOUR CODE HERE ======== ##\n",
        "from sklearn.svm import SVC\n",
        "svc = SVC(kernel='linear',probability=True)\n",
        "svc.fit(X_train_scaled,Y_train)\n",
        "y_pred2=svc.predict(X_test_scaled)\n",
        "## ================================ ##"
      ]
    },
    {
      "cell_type": "markdown",
      "metadata": {
        "id": "dnzmj8uaoXdC"
      },
      "source": [
        "#### Plot confusion matrix"
      ]
    },
    {
      "cell_type": "code",
      "execution_count": 23,
      "metadata": {
        "id": "w_82c2Y0n0ed"
      },
      "outputs": [
        {
          "data": {
            "text/plain": [
              "array([[508, 129],\n",
              "       [146, 521]], dtype=int64)"
            ]
          },
          "execution_count": 23,
          "metadata": {},
          "output_type": "execute_result"
        }
      ],
      "source": [
        "## ======== YOUR CODE HERE ======== ##\n",
        "\n",
        "## Use display labels as per your choice.\n",
        "cnf_matrix = metrics.confusion_matrix(Y_test,y_pred2)\n",
        "cnf_matrix\n",
        "\n",
        "## ================================ ##"
      ]
    },
    {
      "cell_type": "markdown",
      "metadata": {
        "id": "rXnA65gGoi32"
      },
      "source": [
        "#### Print classification report"
      ]
    },
    {
      "cell_type": "code",
      "execution_count": 24,
      "metadata": {
        "id": "Ni3urDs2ofFu"
      },
      "outputs": [
        {
          "data": {
            "text/plain": [
              "'              precision    recall  f1-score   support\\n\\n           0       0.78      0.80      0.79       637\\n           1       0.80      0.78      0.79       667\\n\\n    accuracy                           0.79      1304\\n   macro avg       0.79      0.79      0.79      1304\\nweighted avg       0.79      0.79      0.79      1304\\n'"
            ]
          },
          "execution_count": 24,
          "metadata": {},
          "output_type": "execute_result"
        }
      ],
      "source": [
        "## ======== YOUR CODE HERE ======== ##\n",
        "classification_report(Y_test,y_pred2)\n",
        "\n",
        "## ================================ ##"
      ]
    },
    {
      "cell_type": "markdown",
      "metadata": {
        "id": "TdNZjZ_yosP7"
      },
      "source": [
        "#### Print accuracy score"
      ]
    },
    {
      "cell_type": "code",
      "execution_count": 25,
      "metadata": {
        "id": "YycrkEZrolRo"
      },
      "outputs": [
        {
          "data": {
            "text/plain": [
              "0.7891104294478528"
            ]
          },
          "execution_count": 25,
          "metadata": {},
          "output_type": "execute_result"
        }
      ],
      "source": [
        "## ======== YOUR CODE HERE ======== ##\n",
        "metrics.accuracy_score(Y_test,y_pred2)\n",
        "## ================================ ##"
      ]
    },
    {
      "cell_type": "markdown",
      "metadata": {
        "id": "eKN9aDzvpGnB"
      },
      "source": [
        "#### Print ROC-AUC score"
      ]
    },
    {
      "cell_type": "code",
      "execution_count": 26,
      "metadata": {
        "id": "XFvSXf3upFix"
      },
      "outputs": [
        {
          "data": {
            "text/plain": [
              "0.865339308367794"
            ]
          },
          "execution_count": 26,
          "metadata": {},
          "output_type": "execute_result"
        }
      ],
      "source": [
        "## ======== YOUR CODE HERE ======== ##\n",
        "\n",
        "## Note: Use predict_proba!!! Read documentation/google it\n",
        "pred_prob2 = svc.predict_proba(X_test_scaled)\n",
        "score = roc_auc_score(Y_test,pred_prob2[:,1])\n",
        "score\n",
        "## ================================ ##"
      ]
    },
    {
      "cell_type": "markdown",
      "metadata": {
        "id": "Zfehp2mOqVQy"
      },
      "source": [
        "#### Plot ROC-AUC curve"
      ]
    },
    {
      "cell_type": "code",
      "execution_count": 27,
      "metadata": {
        "id": "Onuzz70ypaUg"
      },
      "outputs": [
        {
          "data": {
            "image/png": "[encoded data removed]",
            "text/plain": [
              "<Figure size 640x480 with 1 Axes>"
            ]
          },
          "metadata": {},
          "output_type": "display_data"
        }
      ],
      "source": [
        "## ======== YOUR CODE HERE ======== ##\n",
        "\n",
        "## Set appropriate X label, Y label and Title for the graph\n",
        "fpr2, tpr2, thresh2 = roc_curve(Y_test,pred_prob2[:,1],pos_label=1)\n",
        "random_probs = [0 for i in range(len(Y_test))]\n",
        "p_fpr, p_tpr, _ = roc_curve(Y_test, random_probs, pos_label=1)\n",
        "\n",
        "pyplot.plot(fpr2, tpr2, linestyle='--',color='orange', label='SVM')\n",
        "pyplot.plot(p_fpr, p_tpr, linestyle='--', color='blue')\n",
        "pyplot.title('ROC curve')\n",
        "\n",
        "pyplot.xlabel('False Positive Rate')\n",
        "pyplot.ylabel('True Positive rate')\n",
        "\n",
        "pyplot.legend(loc='best')\n",
        "pyplot.savefig('ROC1')\n",
        "pyplot.show();\n",
        "\n",
        "## ================================ ##"
      ]
    },
    {
      "cell_type": "markdown",
      "metadata": {
        "id": "hA3c9iivrXNy"
      },
      "source": [
        "#### Cross validation"
      ]
    },
    {
      "cell_type": "code",
      "execution_count": 28,
      "metadata": {
        "id": "4O0OlBkXqYYr"
      },
      "outputs": [
        {
          "data": {
            "text/plain": [
              "array([0.77943166, 0.79093369, 0.77401894, 0.79972936, 0.7704807 ])"
            ]
          },
          "execution_count": 28,
          "metadata": {},
          "output_type": "execute_result"
        }
      ],
      "source": [
        "## ======== YOUR CODE HERE ======== ##\n",
        "\n",
        "## cv=5\n",
        "from sklearn.model_selection import cross_val_score\n",
        "score = cross_val_score(svc,X_train_scaled,Y_train,cv=5)\n",
        "score\n",
        "## ================================ ##"
      ]
    },
    {
      "cell_type": "markdown",
      "metadata": {
        "id": "HvRyJBGxuKIE"
      },
      "source": [
        "# Congratulations! Assignment Completed!"
      ]
    }
  ],
  "metadata": {
    "colab": {
      "provenance": []
    },
    "kernelspec": {
      "display_name": "base",
      "language": "python",
      "name": "python3"
    },
    "language_info": {
      "codemirror_mode": {
        "name": "ipython",
        "version": 3
      },
      "file_extension": ".py",
      "mimetype": "text/x-python",
      "name": "python",
      "nbconvert_exporter": "python",
      "pygments_lexer": "ipython3",
      "version": "3.11.4"
    }
  },
  "nbformat": 4,
  "nbformat_minor": 0
}
