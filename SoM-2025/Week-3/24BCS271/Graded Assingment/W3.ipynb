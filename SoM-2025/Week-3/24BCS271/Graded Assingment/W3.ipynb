{
  "cells": [
    {
      "cell_type": "markdown",
      "metadata": {
        "id": "cFFGn7sdEYqp"
      },
      "source": [
        "Link to dataset : https://drive.google.com/file/d/1sbQ5WJ-KCPBrhT2YagtaARGoujCMpB8Q/view"
      ]
    },
    {
      "cell_type": "markdown",
      "metadata": {
        "id": "8LmHV7W9GevP"
      },
      "source": [
        "# SA-2025 WEEK 3 GRADED ASSIGNMENT\n",
        "\n",
        "> Spaceship Titanic\n",
        "\n",
        "Predict which passengers are transported to an alternate dimension\n",
        "\n",
        "![](https://www.gannett-cdn.com/-mm-/682bf77435754aee88576469063388a7d8b07c2a/c=0-150-1280-873/local/-/media/2017/02/01/Reno/RGJ/636215634914521096-image001.jpg?width=660&height=373&fit=crop&format=pjpg&auto=webp)\n"
      ]
    },
    {
      "cell_type": "markdown",
      "metadata": {
        "id": "oLt5SCtVJpr3"
      },
      "source": [
        "### <b>Description</b>\n",
        "\n",
        "Welcome to the year 2912, where your data science skills are needed to solve a cosmic mystery. We've received a transmission from four lightyears away and things aren't looking good.\n",
        "\n",
        "The Spaceship Titanic was an interstellar passenger liner launched a month ago. With almost 13,000 passengers on board, the vessel set out on its maiden voyage transporting emigrants from our solar system to three newly habitable exoplanets orbiting nearby stars.\n",
        "\n",
        "While rounding Alpha Centauri en route to its first destination—the torrid 55 Cancri E—the unwary Spaceship Titanic collided with a spacetime anomaly hidden within a dust cloud. Sadly, it met a similar fate as its namesake from 1000 years before. Though the ship stayed intact, almost half of the passengers were transported to an alternate dimension!"
      ]
    },
    {
      "cell_type": "markdown",
      "metadata": {
        "id": "y9Gca7_uNwH0"
      },
      "source": [
        "### <b>Data description</b>\n",
        "\n",
        "- Personal records for about two-thirds (~8700) of the passengers, to be used as training data.\n",
        "- <code>PassengerId</code> - A unique Id for each passenger. Each Id takes the form gggg_pp where gggg indicates a group the passenger is travelling with and pp is their number within the group. People in a group are often family members, but not always.\n",
        "- <code>HomePlanet</code> - The planet the passenger departed from, typically their planet of permanent residence.\n",
        "- <code>CryoSleep</code> - Indicates whether the passenger elected to be put into suspended animation for the duration of the voyage. Passengers in cryosleep are confined to their cabins.\n",
        "- <code>Cabin</code> - The cabin number where the passenger is staying. Takes the form deck/num/side, where side can be either P for Port or S for Starboard.\n",
        "- <code>Destination</code> - The planet the passenger will be debarking to.\n",
        "- <code>Age</code> - The age of the passenger.\n",
        "- <code>VIP</code> - Whether the passenger has paid for special VIP service during the voyage.\n",
        "- <code>RoomService, FoodCourt, ShoppingMall, Spa, VRDeck</code> - Amount the passenger has billed at each of the Spaceship Titanic's many luxury amenities.\n",
        "- <code>Name</code> - The first and last names of the passenger.\n",
        "- <code>Transported</code> - Whether the passenger was transported to another dimension. This is the target, the column you are trying to predict.\n"
      ]
    },
    {
      "cell_type": "markdown",
      "metadata": {
        "id": "QFtglLAEN18g"
      },
      "source": [
        "### <b>Algorithm Documentation</b> (Highly recommended!)\n",
        "- <code>Logistic Regression</code> : https://scikit-learn.org/stable/modules/generated/sklearn.linear_model.LogisticRegression.html\n",
        "- <code>SVM</code> : https://scikit-learn.org/stable/modules/svm.html\n",
        "Confusion Matrix : https://scikit-learn.org/stable/modules/generated/sklearn.metrics.confusion_matrix.html\n",
        "- <code>Plot Confusion Matrix</code> : https://scikit-learn.org/stable/modules/generated/sklearn.metrics.plot_confusion_matrix.html\n",
        "- <code>ROC_AUC Score</code> : https://scikit-learn.org/stable/modules/generated/sklearn.metrics.roc_auc_score.html#sklearn.metrics.roc_auc_score\n",
        "- <code>Classification Report</code> : https://scikit-learn.org/stable/modules/generated/sklearn.metrics.classification_report.html\n",
        "- <code>Label Encoder</code> : https://scikit-learn.org/stable/modules/generated/sklearn.preprocessing.LabelEncoder.html\n",
        "- <code>Label Binarizer</code> : https://scikit-learn.org/stable/modules/generated/sklearn.preprocessing.LabelBinarizer.html\n",
        "- <code>Standard Scaler</code> : https://scikit-learn.org/stable/modules/generated/sklearn.preprocessing.StandardScaler.html\n",
        "- <code>Cross Val Score</code> : https://scikit-learn.org/stable/modules/generated/sklearn.model_selection.cross_val_score.html"
      ]
    },
    {
      "cell_type": "markdown",
      "metadata": {
        "id": "v7NbAQfaPzYu"
      },
      "source": [
        "# <span><h1 style = \"font-family: garamond; font-size: 40px; font-style: normal; letter-spcaing: 3px; background-color: #f6f5f5; color :#fe346e; border-radius: 100px 100px; text-align:center\">Install Required Libraries</h1></span>"
      ]
    },
    {
      "cell_type": "code",
      "execution_count": 88,
      "metadata": {
        "id": "xoIlRrQsOGUu"
      },
      "outputs": [],
      "source": [
        "import pandas as pd\n",
        "import numpy as np\n",
        "import matplotlib.pyplot as plt\n",
        "%matplotlib inline"
      ]
    },
    {
      "cell_type": "markdown",
      "metadata": {
        "id": "UH9QQTGtQR-O"
      },
      "source": [
        "#### Read the data"
      ]
    },
    {
      "cell_type": "code",
      "execution_count": 89,
      "metadata": {
        "id": "zlpfluw5q2hb"
      },
      "outputs": [],
      "source": [
        "SpTitanic=pd.read_csv(\"data.csv\")"
      ]
    },
    {
      "cell_type": "markdown",
      "metadata": {
        "id": "TctF3H_SUePG"
      },
      "source": [
        "#### Check the shape of data. It should be  (8693, 14)"
      ]
    },
    {
      "cell_type": "code",
      "execution_count": 90,
      "metadata": {
        "id": "T5wuaGN7LY7M"
      },
      "outputs": [
        {
          "data": {
            "text/plain": [
              "(8693, 14)"
            ]
          },
          "execution_count": 90,
          "metadata": {},
          "output_type": "execute_result"
        }
      ],
      "source": [
        "SpTitanic.shape"
      ]
    },
    {
      "cell_type": "markdown",
      "metadata": {
        "id": "qtkIiZmwUpDM"
      },
      "source": [
        "#### Apply describe on dataframe"
      ]
    },
    {
      "cell_type": "code",
      "execution_count": 91,
      "metadata": {
        "id": "oa9X6NTxQlzk"
      },
      "outputs": [
        {
          "data": {
            "text/html": [
              "<div>\n",
              "<style scoped>\n",
              "    .dataframe tbody tr th:only-of-type {\n",
              "        vertical-align: middle;\n",
              "    }\n",
              "\n",
              "    .dataframe tbody tr th {\n",
              "        vertical-align: top;\n",
              "    }\n",
              "\n",
              "    .dataframe thead th {\n",
              "        text-align: right;\n",
              "    }\n",
              "</style>\n",
              "<table border=\"1\" class=\"dataframe\">\n",
              "  <thead>\n",
              "    <tr style=\"text-align: right;\">\n",
              "      <th></th>\n",
              "      <th>Age</th>\n",
              "      <th>RoomService</th>\n",
              "      <th>FoodCourt</th>\n",
              "      <th>ShoppingMall</th>\n",
              "      <th>Spa</th>\n",
              "      <th>VRDeck</th>\n",
              "    </tr>\n",
              "  </thead>\n",
              "  <tbody>\n",
              "    <tr>\n",
              "      <th>count</th>\n",
              "      <td>8693.000000</td>\n",
              "      <td>8693.000000</td>\n",
              "      <td>8693.000000</td>\n",
              "      <td>8693.000000</td>\n",
              "      <td>8693.000000</td>\n",
              "      <td>8693.000000</td>\n",
              "    </tr>\n",
              "    <tr>\n",
              "      <th>mean</th>\n",
              "      <td>28.728517</td>\n",
              "      <td>220.009318</td>\n",
              "      <td>448.434027</td>\n",
              "      <td>169.572300</td>\n",
              "      <td>304.588865</td>\n",
              "      <td>298.261820</td>\n",
              "    </tr>\n",
              "    <tr>\n",
              "      <th>std</th>\n",
              "      <td>14.355438</td>\n",
              "      <td>660.519050</td>\n",
              "      <td>1595.790627</td>\n",
              "      <td>598.007164</td>\n",
              "      <td>1125.562559</td>\n",
              "      <td>1134.126417</td>\n",
              "    </tr>\n",
              "    <tr>\n",
              "      <th>min</th>\n",
              "      <td>0.000000</td>\n",
              "      <td>0.000000</td>\n",
              "      <td>0.000000</td>\n",
              "      <td>0.000000</td>\n",
              "      <td>0.000000</td>\n",
              "      <td>0.000000</td>\n",
              "    </tr>\n",
              "    <tr>\n",
              "      <th>25%</th>\n",
              "      <td>20.000000</td>\n",
              "      <td>0.000000</td>\n",
              "      <td>0.000000</td>\n",
              "      <td>0.000000</td>\n",
              "      <td>0.000000</td>\n",
              "      <td>0.000000</td>\n",
              "    </tr>\n",
              "    <tr>\n",
              "      <th>50%</th>\n",
              "      <td>27.000000</td>\n",
              "      <td>0.000000</td>\n",
              "      <td>0.000000</td>\n",
              "      <td>0.000000</td>\n",
              "      <td>0.000000</td>\n",
              "      <td>0.000000</td>\n",
              "    </tr>\n",
              "    <tr>\n",
              "      <th>75%</th>\n",
              "      <td>37.000000</td>\n",
              "      <td>41.000000</td>\n",
              "      <td>61.000000</td>\n",
              "      <td>22.000000</td>\n",
              "      <td>53.000000</td>\n",
              "      <td>40.000000</td>\n",
              "    </tr>\n",
              "    <tr>\n",
              "      <th>max</th>\n",
              "      <td>79.000000</td>\n",
              "      <td>14327.000000</td>\n",
              "      <td>29813.000000</td>\n",
              "      <td>23492.000000</td>\n",
              "      <td>22408.000000</td>\n",
              "      <td>24133.000000</td>\n",
              "    </tr>\n",
              "  </tbody>\n",
              "</table>\n",
              "</div>"
            ],
            "text/plain": [
              "               Age   RoomService     FoodCourt  ShoppingMall           Spa  \\\n",
              "count  8693.000000   8693.000000   8693.000000   8693.000000   8693.000000   \n",
              "mean     28.728517    220.009318    448.434027    169.572300    304.588865   \n",
              "std      14.355438    660.519050   1595.790627    598.007164   1125.562559   \n",
              "min       0.000000      0.000000      0.000000      0.000000      0.000000   \n",
              "25%      20.000000      0.000000      0.000000      0.000000      0.000000   \n",
              "50%      27.000000      0.000000      0.000000      0.000000      0.000000   \n",
              "75%      37.000000     41.000000     61.000000     22.000000     53.000000   \n",
              "max      79.000000  14327.000000  29813.000000  23492.000000  22408.000000   \n",
              "\n",
              "             VRDeck  \n",
              "count   8693.000000  \n",
              "mean     298.261820  \n",
              "std     1134.126417  \n",
              "min        0.000000  \n",
              "25%        0.000000  \n",
              "50%        0.000000  \n",
              "75%       40.000000  \n",
              "max    24133.000000  "
            ]
          },
          "execution_count": 91,
          "metadata": {},
          "output_type": "execute_result"
        }
      ],
      "source": [
        "SpTitanic.describe()"
      ]
    },
    {
      "cell_type": "markdown",
      "metadata": {
        "id": "jtuqbR3LUsws"
      },
      "source": [
        "#### Check if there any null value in the dataset."
      ]
    },
    {
      "cell_type": "code",
      "execution_count": 92,
      "metadata": {
        "id": "NH6Ky_nqQxtE"
      },
      "outputs": [
        {
          "data": {
            "text/plain": [
              "PassengerId     0\n",
              "HomePlanet      0\n",
              "CryoSleep       0\n",
              "Cabin           0\n",
              "Destination     0\n",
              "Age             0\n",
              "VIP             0\n",
              "RoomService     0\n",
              "FoodCourt       0\n",
              "ShoppingMall    0\n",
              "Spa             0\n",
              "VRDeck          0\n",
              "Name            0\n",
              "Transported     0\n",
              "dtype: int64"
            ]
          },
          "execution_count": 92,
          "metadata": {},
          "output_type": "execute_result"
        }
      ],
      "source": [
        "SpTitanic.isna().sum()"
      ]
    },
    {
      "cell_type": "markdown",
      "metadata": {
        "id": "XA8O-zuLU00Q"
      },
      "source": [
        "#### Number continuous and categorical features"
      ]
    },
    {
      "cell_type": "code",
      "execution_count": 93,
      "metadata": {
        "id": "bnEHaL-cUUQ4"
      },
      "outputs": [
        {
          "name": "stdout",
          "output_type": "stream",
          "text": [
            "(8693, 6)\n",
            "(8693, 5)\n"
          ]
        }
      ],
      "source": [
        "SpTitanic_continous = SpTitanic.select_dtypes(include=['int64', 'float64'])\n",
        "SpTitanic_categorical = SpTitanic.select_dtypes(include=['object'])\n",
        "print(SpTitanic_continous.shape)\n",
        "print(SpTitanic_categorical.shape)\n"
      ]
    },
    {
      "cell_type": "markdown",
      "metadata": {
        "id": "nvbf6praYa0l"
      },
      "source": [
        "#### Unique values"
      ]
    },
    {
      "cell_type": "code",
      "execution_count": 94,
      "metadata": {
        "id": "YHRaNXWuZecT"
      },
      "outputs": [
        {
          "data": {
            "text/plain": [
              "PassengerId    8693\n",
              "HomePlanet        3\n",
              "Cabin          6560\n",
              "Destination       3\n",
              "Name           8473\n",
              "dtype: int64"
            ]
          },
          "execution_count": 94,
          "metadata": {},
          "output_type": "execute_result"
        }
      ],
      "source": [
        "# Print the number of unique values of the categorical features\n",
        "\n",
        "SpTitanic_categorical.nunique()\n",
        "\n",
        "# seeing the n-unique for passengerID , we can say there is no error and no overlap in passengerID as all are unique .\n",
        "# But there is an anomaly as Name of passengers might overlap as not all of them are unique ."
      ]
    },
    {
      "cell_type": "markdown",
      "metadata": {
        "id": "0oojkTXNbSsU"
      },
      "source": [
        "<code>Note: If we apply one-hot-encoding to a categorical feature with many unique values, </code>\n",
        "- Number of columns will be high\n",
        "- Time required for training a model will be high\n",
        "- We may not get usefull insights about the data\n",
        "\n",
        "<code>This is the reason we are droping the features with more unique values.</code>\n"
      ]
    },
    {
      "cell_type": "markdown",
      "metadata": {
        "id": "cDThwpZKdjKT"
      },
      "source": [
        "#### Drop the features"
      ]
    },
    {
      "cell_type": "code",
      "execution_count": 95,
      "metadata": {
        "id": "s1wMTAeJdqQb"
      },
      "outputs": [
        {
          "data": {
            "text/plain": [
              "(8693, 11)"
            ]
          },
          "execution_count": 95,
          "metadata": {},
          "output_type": "execute_result"
        }
      ],
      "source": [
        "# Drop those categorical features which have more than 25 unique values\n",
        "\n",
        "for col in SpTitanic_categorical.columns:\n",
        "    if SpTitanic_categorical[col].nunique() > 25:\n",
        "        SpTitanic.drop(col, axis=1, inplace=True)\n",
        "\n",
        "# Print the shape after droping the features\n",
        "# Check: Shape --> (8693, 11)\n",
        "\n",
        "SpTitanic.shape"
      ]
    },
    {
      "cell_type": "markdown",
      "metadata": {
        "id": "k6giFKFeevim"
      },
      "source": [
        "#### One Hot Encoding"
      ]
    },
    {
      "cell_type": "code",
      "execution_count": 96,
      "metadata": {
        "id": "3BVX8hQhW8JT"
      },
      "outputs": [
        {
          "data": {
            "text/plain": [
              "(8693, 15)"
            ]
          },
          "execution_count": 96,
          "metadata": {},
          "output_type": "execute_result"
        }
      ],
      "source": [
        "# Hint: search for get_dummies\n",
        "\n",
        "SpTitanic=pd.get_dummies(SpTitanic)\n",
        "# Check: Shape --> (8693, 15)\n",
        "\n",
        "SpTitanic.shape"
      ]
    },
    {
      "cell_type": "markdown",
      "metadata": {
        "id": "9_HhXZhJjJrC"
      },
      "source": [
        "#### Changing bool columns to 0,1"
      ]
    },
    {
      "cell_type": "code",
      "execution_count": 97,
      "metadata": {
        "id": "6BGjAjk5emqP"
      },
      "outputs": [
        {
          "data": {
            "text/html": [
              "<div>\n",
              "<style scoped>\n",
              "    .dataframe tbody tr th:only-of-type {\n",
              "        vertical-align: middle;\n",
              "    }\n",
              "\n",
              "    .dataframe tbody tr th {\n",
              "        vertical-align: top;\n",
              "    }\n",
              "\n",
              "    .dataframe thead th {\n",
              "        text-align: right;\n",
              "    }\n",
              "</style>\n",
              "<table border=\"1\" class=\"dataframe\">\n",
              "  <thead>\n",
              "    <tr style=\"text-align: right;\">\n",
              "      <th></th>\n",
              "      <th>CryoSleep</th>\n",
              "      <th>Age</th>\n",
              "      <th>VIP</th>\n",
              "      <th>RoomService</th>\n",
              "      <th>FoodCourt</th>\n",
              "      <th>ShoppingMall</th>\n",
              "      <th>Spa</th>\n",
              "      <th>VRDeck</th>\n",
              "      <th>Transported</th>\n",
              "      <th>HomePlanet_Earth</th>\n",
              "      <th>HomePlanet_Europa</th>\n",
              "      <th>HomePlanet_Mars</th>\n",
              "      <th>Destination_Andromeda</th>\n",
              "      <th>Destination_Cygnus</th>\n",
              "      <th>Destination_Virgo</th>\n",
              "    </tr>\n",
              "  </thead>\n",
              "  <tbody>\n",
              "    <tr>\n",
              "      <th>0</th>\n",
              "      <td>0</td>\n",
              "      <td>39</td>\n",
              "      <td>0</td>\n",
              "      <td>0</td>\n",
              "      <td>0</td>\n",
              "      <td>0</td>\n",
              "      <td>0</td>\n",
              "      <td>0</td>\n",
              "      <td>0</td>\n",
              "      <td>False</td>\n",
              "      <td>True</td>\n",
              "      <td>False</td>\n",
              "      <td>True</td>\n",
              "      <td>False</td>\n",
              "      <td>False</td>\n",
              "    </tr>\n",
              "    <tr>\n",
              "      <th>1</th>\n",
              "      <td>0</td>\n",
              "      <td>24</td>\n",
              "      <td>0</td>\n",
              "      <td>109</td>\n",
              "      <td>9</td>\n",
              "      <td>25</td>\n",
              "      <td>549</td>\n",
              "      <td>44</td>\n",
              "      <td>1</td>\n",
              "      <td>True</td>\n",
              "      <td>False</td>\n",
              "      <td>False</td>\n",
              "      <td>True</td>\n",
              "      <td>False</td>\n",
              "      <td>False</td>\n",
              "    </tr>\n",
              "    <tr>\n",
              "      <th>2</th>\n",
              "      <td>0</td>\n",
              "      <td>58</td>\n",
              "      <td>1</td>\n",
              "      <td>43</td>\n",
              "      <td>3576</td>\n",
              "      <td>0</td>\n",
              "      <td>6715</td>\n",
              "      <td>49</td>\n",
              "      <td>0</td>\n",
              "      <td>False</td>\n",
              "      <td>True</td>\n",
              "      <td>False</td>\n",
              "      <td>True</td>\n",
              "      <td>False</td>\n",
              "      <td>False</td>\n",
              "    </tr>\n",
              "    <tr>\n",
              "      <th>3</th>\n",
              "      <td>0</td>\n",
              "      <td>33</td>\n",
              "      <td>0</td>\n",
              "      <td>0</td>\n",
              "      <td>1283</td>\n",
              "      <td>371</td>\n",
              "      <td>3329</td>\n",
              "      <td>193</td>\n",
              "      <td>0</td>\n",
              "      <td>False</td>\n",
              "      <td>True</td>\n",
              "      <td>False</td>\n",
              "      <td>True</td>\n",
              "      <td>False</td>\n",
              "      <td>False</td>\n",
              "    </tr>\n",
              "    <tr>\n",
              "      <th>4</th>\n",
              "      <td>0</td>\n",
              "      <td>16</td>\n",
              "      <td>0</td>\n",
              "      <td>303</td>\n",
              "      <td>70</td>\n",
              "      <td>151</td>\n",
              "      <td>565</td>\n",
              "      <td>2</td>\n",
              "      <td>1</td>\n",
              "      <td>True</td>\n",
              "      <td>False</td>\n",
              "      <td>False</td>\n",
              "      <td>True</td>\n",
              "      <td>False</td>\n",
              "      <td>False</td>\n",
              "    </tr>\n",
              "  </tbody>\n",
              "</table>\n",
              "</div>"
            ],
            "text/plain": [
              "   CryoSleep  Age  VIP  RoomService  FoodCourt  ShoppingMall   Spa  VRDeck  \\\n",
              "0          0   39    0            0          0             0     0       0   \n",
              "1          0   24    0          109          9            25   549      44   \n",
              "2          0   58    1           43       3576             0  6715      49   \n",
              "3          0   33    0            0       1283           371  3329     193   \n",
              "4          0   16    0          303         70           151   565       2   \n",
              "\n",
              "   Transported  HomePlanet_Earth  HomePlanet_Europa  HomePlanet_Mars  \\\n",
              "0            0             False               True            False   \n",
              "1            1              True              False            False   \n",
              "2            0             False               True            False   \n",
              "3            0             False               True            False   \n",
              "4            1              True              False            False   \n",
              "\n",
              "   Destination_Andromeda  Destination_Cygnus  Destination_Virgo  \n",
              "0                   True               False              False  \n",
              "1                   True               False              False  \n",
              "2                   True               False              False  \n",
              "3                   True               False              False  \n",
              "4                   True               False              False  "
            ]
          },
          "execution_count": 97,
          "metadata": {},
          "output_type": "execute_result"
        }
      ],
      "source": [
        "## ======== Run this code(Don't change any code)======== ##\n",
        "\n",
        "SpTitanic['CryoSleep'] = SpTitanic['CryoSleep'].astype(int)\n",
        "SpTitanic['VIP'] = SpTitanic['VIP'].astype(int)\n",
        "SpTitanic['Transported'] = SpTitanic['Transported'].astype(int)\n",
        "\n",
        "SpTitanic.head()\n",
        "\n",
        "## ======== Run this code(Don't change any code)======== ##\n"
      ]
    },
    {
      "cell_type": "markdown",
      "metadata": {
        "id": "vz-ytNV0jRmi"
      },
      "source": [
        "#### Split the data into train and test"
      ]
    },
    {
      "cell_type": "code",
      "execution_count": 98,
      "metadata": {
        "id": "zMuBNwpWhZRy"
      },
      "outputs": [],
      "source": [
        "from sklearn.model_selection import train_test_split\n",
        "\n",
        "x=SpTitanic.drop(\"Transported\",axis=1)\n",
        "y=SpTitanic[\"Transported\"]\n",
        "\n",
        "## Test size should be 15% of the full dataset and use random state = 2022\n",
        "\n",
        "x_train, x_test, y_train, y_test = train_test_split(x, y, test_size = 0.15, random_state = 2022)\n"
      ]
    },
    {
      "cell_type": "code",
      "execution_count": 99,
      "metadata": {
        "id": "VAD29hRbjgYY"
      },
      "outputs": [
        {
          "name": "stdout",
          "output_type": "stream",
          "text": [
            "X_train shape: (7389, 14)\n",
            "X_test shape: (1304, 14)\n",
            "y_train shape: (7389,)\n",
            "y_test shape: (1304,)\n"
          ]
        }
      ],
      "source": [
        "print(\"X_train shape:\", x_train.shape)\n",
        "print(\"X_test shape:\", x_test.shape)\n",
        "print(\"y_train shape:\", y_train.shape)\n",
        "print(\"y_test shape:\", y_test.shape)\n",
        "## Let us print the shapes:\n"
      ]
    },
    {
      "cell_type": "markdown",
      "metadata": {
        "id": "bIjWDrnEjpia"
      },
      "source": [
        "#### Scale the data using Standard Scaler"
      ]
    },
    {
      "cell_type": "code",
      "execution_count": 100,
      "metadata": {
        "id": "naPlXlFhjkkI"
      },
      "outputs": [],
      "source": [
        "## Use Standard Scaler to scale the train and test data\n",
        "from sklearn.preprocessing import StandardScaler\n",
        "x_train_scaled = StandardScaler().fit_transform(x_train)\n",
        "x_test_scaled = StandardScaler().fit_transform(x_test)"
      ]
    },
    {
      "cell_type": "markdown",
      "metadata": {
        "id": "5LQ24wfSjv0c"
      },
      "source": [
        "## <b>Logistic Regression</b>\n",
        "#### Use default parameters unless mentioned"
      ]
    },
    {
      "cell_type": "code",
      "execution_count": 101,
      "metadata": {
        "id": "Q_05utrBjsEY"
      },
      "outputs": [],
      "source": [
        "## Use Random state = 2021 and fit the LR model\n",
        "from sklearn.linear_model import LogisticRegression\n",
        "LR = LogisticRegression(random_state=2021)\n",
        "LR.fit(x_train_scaled, y_train)\n",
        "y_Pred_LR = LR.predict(x_test_scaled)"
      ]
    },
    {
      "cell_type": "markdown",
      "metadata": {
        "id": "tTnclsr6kGzY"
      },
      "source": [
        "#### Plot confusion matrix"
      ]
    },
    {
      "cell_type": "code",
      "execution_count": 102,
      "metadata": {
        "id": "OK6afSwBj_2S"
      },
      "outputs": [
        {
          "data": {
            "image/png": "[encoded data removed]",
            "text/plain": [
              "<Figure size 640x480 with 2 Axes>"
            ]
          },
          "metadata": {},
          "output_type": "display_data"
        }
      ],
      "source": [
        "from sklearn.metrics import confusion_matrix, ConfusionMatrixDisplay\n",
        "ConfusionMatrixDisplay(confusion_matrix(y_test, y_Pred_LR)).plot()\n",
        "plt.show()"
      ]
    },
    {
      "cell_type": "markdown",
      "metadata": {
        "id": "2CdCZHpZkdov"
      },
      "source": [
        "#### Print classification report"
      ]
    },
    {
      "cell_type": "code",
      "execution_count": 103,
      "metadata": {
        "id": "pLVPxS33kPlI"
      },
      "outputs": [
        {
          "name": "stdout",
          "output_type": "stream",
          "text": [
            "              precision    recall  f1-score   support\n",
            "\n",
            "           0       0.78      0.80      0.79       637\n",
            "           1       0.80      0.78      0.79       667\n",
            "\n",
            "    accuracy                           0.79      1304\n",
            "   macro avg       0.79      0.79      0.79      1304\n",
            "weighted avg       0.79      0.79      0.79      1304\n",
            "\n"
          ]
        }
      ],
      "source": [
        "from sklearn.metrics import  classification_report\n",
        "print(classification_report(y_test, y_Pred_LR))"
      ]
    },
    {
      "cell_type": "markdown",
      "metadata": {
        "id": "dsCHjnQxlB6d"
      },
      "source": [
        "#### Print accuracy score"
      ]
    },
    {
      "cell_type": "code",
      "execution_count": 104,
      "metadata": {
        "id": "fn-CKB9Gkn9X"
      },
      "outputs": [
        {
          "data": {
            "text/plain": [
              "0.7906441717791411"
            ]
          },
          "execution_count": 104,
          "metadata": {},
          "output_type": "execute_result"
        }
      ],
      "source": [
        "from sklearn.metrics import accuracy_score\n",
        "accuracy_score(y_test,  y_Pred_LR)"
      ]
    },
    {
      "cell_type": "markdown",
      "metadata": {
        "id": "GQXaQcUMlpuW"
      },
      "source": [
        "#### Print ROC-AUC score"
      ]
    },
    {
      "cell_type": "code",
      "execution_count": 105,
      "metadata": {
        "id": "peowPJH3lPQg"
      },
      "outputs": [
        {
          "data": {
            "text/plain": [
              "0.8782924079561474"
            ]
          },
          "execution_count": 105,
          "metadata": {},
          "output_type": "execute_result"
        }
      ],
      "source": [
        "from sklearn.metrics import roc_auc_score\n",
        "\n",
        "## Note: Use predict_proba!!! Read documentation/google it\n",
        "\n",
        "roc_auc_score(y_test, LR.predict_proba(x_test_scaled)[:,1])"
      ]
    },
    {
      "cell_type": "markdown",
      "metadata": {
        "id": "WxxoTYomqceD"
      },
      "source": [
        "#### Plot ROC-AUC Curve"
      ]
    },
    {
      "cell_type": "code",
      "execution_count": 106,
      "metadata": {
        "id": "pu-xnAORqhP1"
      },
      "outputs": [
        {
          "data": {
            "image/png": "[encoded data removed]",
            "text/plain": [
              "<Figure size 640x480 with 1 Axes>"
            ]
          },
          "metadata": {},
          "output_type": "display_data"
        }
      ],
      "source": [
        "## Set appropriate X label, Y label and Title for the graph\n",
        "from sklearn.metrics import roc_curve\n",
        "fpr_lr, trp_lr, thresholds_lr = roc_curve(y_test,y_Pred_LR)\n",
        "plt.plot(fpr_lr, trp_lr)\n",
        "plt.xlabel(\"False Positive Rate\")\n",
        "plt.ylabel(\"True Positive Rate\")\n",
        "plt.title(\"ROC Curve with lr\")\n",
        "plt.show()"
      ]
    },
    {
      "cell_type": "markdown",
      "metadata": {
        "id": "UvxDjUoNrjYN"
      },
      "source": [
        "#### Cross validation"
      ]
    },
    {
      "cell_type": "code",
      "execution_count": 107,
      "metadata": {
        "id": "Jvx57Bx_rjBn"
      },
      "outputs": [
        {
          "data": {
            "text/plain": [
              "array([0.79693487, 0.77777778, 0.79693487, 0.78927203, 0.79230769])"
            ]
          },
          "execution_count": 107,
          "metadata": {},
          "output_type": "execute_result"
        }
      ],
      "source": [
        "from sklearn.model_selection import cross_val_score\n",
        "## cv=5\n",
        "cross_val_score(LR, x_test_scaled, y_test, cv=5)"
      ]
    },
    {
      "cell_type": "markdown",
      "metadata": {
        "id": "7hQ6KaXenOtN"
      },
      "source": [
        "## <b>SVM</b>\n",
        "#### Use default parameters unless mentioned"
      ]
    },
    {
      "cell_type": "code",
      "execution_count": 108,
      "metadata": {
        "id": "CpY0U9gjmia_"
      },
      "outputs": [],
      "source": [
        "from sklearn import svm\n",
        "model_svm = svm.SVC(random_state=2021, probability=True)\n",
        "model_svm.fit(x_train_scaled, y_train)\n",
        "y_Pred_svm = model_svm.predict(x_test_scaled)"
      ]
    },
    {
      "cell_type": "markdown",
      "metadata": {
        "id": "dnzmj8uaoXdC"
      },
      "source": [
        "#### Plot confusion matrix"
      ]
    },
    {
      "cell_type": "code",
      "execution_count": 109,
      "metadata": {
        "id": "w_82c2Y0n0ed"
      },
      "outputs": [
        {
          "data": {
            "image/png": "[encoded data removed]",
            "text/plain": [
              "<Figure size 640x480 with 2 Axes>"
            ]
          },
          "metadata": {},
          "output_type": "display_data"
        }
      ],
      "source": [
        "ConfusionMatrixDisplay(confusion_matrix(y_test, y_Pred_svm)).plot()\n",
        "plt.show()"
      ]
    },
    {
      "cell_type": "markdown",
      "metadata": {
        "id": "rXnA65gGoi32"
      },
      "source": [
        "#### Print classification report"
      ]
    },
    {
      "cell_type": "code",
      "execution_count": 110,
      "metadata": {
        "id": "Ni3urDs2ofFu"
      },
      "outputs": [
        {
          "name": "stdout",
          "output_type": "stream",
          "text": [
            "              precision    recall  f1-score   support\n",
            "\n",
            "           0       0.78      0.82      0.80       637\n",
            "           1       0.82      0.78      0.80       667\n",
            "\n",
            "    accuracy                           0.80      1304\n",
            "   macro avg       0.80      0.80      0.80      1304\n",
            "weighted avg       0.80      0.80      0.80      1304\n",
            "\n"
          ]
        }
      ],
      "source": [
        "print(classification_report( y_test, y_Pred_svm))"
      ]
    },
    {
      "cell_type": "markdown",
      "metadata": {
        "id": "TdNZjZ_yosP7"
      },
      "source": [
        "#### Print accuracy score"
      ]
    },
    {
      "cell_type": "code",
      "execution_count": 111,
      "metadata": {
        "id": "YycrkEZrolRo"
      },
      "outputs": [
        {
          "data": {
            "text/plain": [
              "0.799079754601227"
            ]
          },
          "execution_count": 111,
          "metadata": {},
          "output_type": "execute_result"
        }
      ],
      "source": [
        "accuracy_score(y_test, y_Pred_svm)"
      ]
    },
    {
      "cell_type": "markdown",
      "metadata": {
        "id": "eKN9aDzvpGnB"
      },
      "source": [
        "#### Print ROC-AUC score"
      ]
    },
    {
      "cell_type": "code",
      "execution_count": 112,
      "metadata": {
        "id": "XFvSXf3upFix"
      },
      "outputs": [
        {
          "data": {
            "text/plain": [
              "0.8601860765064878"
            ]
          },
          "execution_count": 112,
          "metadata": {},
          "output_type": "execute_result"
        }
      ],
      "source": [
        "## Note: Use predict_proba!!! Read documentation/google it\n",
        "roc_auc_score(y_test, model_svm.predict_proba(x_test_scaled)[:, 1])"
      ]
    },
    {
      "cell_type": "markdown",
      "metadata": {
        "id": "Zfehp2mOqVQy"
      },
      "source": [
        "#### Plot ROC-AUC curve"
      ]
    },
    {
      "cell_type": "code",
      "execution_count": 113,
      "metadata": {
        "id": "Onuzz70ypaUg"
      },
      "outputs": [
        {
          "data": {
            "image/png": "[encoded data removed]",
            "text/plain": [
              "<Figure size 640x480 with 1 Axes>"
            ]
          },
          "metadata": {},
          "output_type": "display_data"
        }
      ],
      "source": [
        "fpr_svm, tpr_svm, thresholds = roc_curve(y_test,y_Pred_svm)\n",
        "## Set appropriate X label, Y label and Title for the graph\n",
        "plt.plot(fpr_svm, tpr_svm, label='SVM')\n",
        "plt.xlabel(\"False Positive Rate\")\n",
        "plt.ylabel(\"True Positive Rate\")\n",
        "plt.title(\"ROC Curve with svm\")\n",
        "plt.show()"
      ]
    },
    {
      "cell_type": "markdown",
      "metadata": {
        "id": "hA3c9iivrXNy"
      },
      "source": [
        "#### Cross validation"
      ]
    },
    {
      "cell_type": "code",
      "execution_count": 114,
      "metadata": {
        "id": "4O0OlBkXqYYr"
      },
      "outputs": [
        {
          "data": {
            "text/plain": [
              "array([0.79310345, 0.79310345, 0.8045977 , 0.7816092 , 0.78461538])"
            ]
          },
          "execution_count": 114,
          "metadata": {},
          "output_type": "execute_result"
        }
      ],
      "source": [
        "## cv=5\n",
        "cross_val_score(model_svm, x_test_scaled, y_test, cv=5)"
      ]
    },
    {
      "cell_type": "markdown",
      "metadata": {
        "id": "HvRyJBGxuKIE"
      },
      "source": [
        "# Congratulations! Assignment Completed!"
      ]
    }
  ],
  "metadata": {
    "colab": {
      "provenance": []
    },
    "kernelspec": {
      "display_name": "base",
      "language": "python",
      "name": "python3"
    },
    "language_info": {
      "codemirror_mode": {
        "name": "ipython",
        "version": 3
      },
      "file_extension": ".py",
      "mimetype": "text/x-python",
      "name": "python",
      "nbconvert_exporter": "python",
      "pygments_lexer": "ipython3",
      "version": "3.12.3"
    }
  },
  "nbformat": 4,
  "nbformat_minor": 0
}
